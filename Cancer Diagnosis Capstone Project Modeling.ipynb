{
 "cells": [
  {
   "cell_type": "markdown",
   "metadata": {},
   "source": [
    "## Cancer Diagnosis Capstone Project Modeling\n",
    "\n",
    "The purpose of this part of the project is to use different modeling methods in order to determine if there is a model that performs better than the Logistic Regression baseline model in predicting whether a breast cancer tumor is benign or malignant.  To recap, two datasets are being compared.  The first is the dataset with all of the original variables, with an exception of perimeter mean and area mean, because they are direct correlations to radius.  The second is the dataset with all of the highly correlated variables used.  This only leaves five variables, which are: <br>\n",
    "radius mean<br>\n",
    "texture mean<br>\n",
    "smoothness mean<br>\n",
    "area standard error<br>\n",
    "concavity standard error\n",
    "\n",
    "Both of these models will be used throughout.  The models that are going to be used are (with the different hyperparameters that will be compared using GridSearchCV):<br>\n",
    "**K-Nearest Neighbors (KNN)** <br>\n",
    "Number of Neighbors: Range from 1-10 <br>\n",
    "P (Power parameter for the Minkowski metric): 1(Manhattan Distance), 2(Euclidean Distance)<br>\n",
    "Weights: Uniform or distance\n",
    "\n",
    "**Support Vector Classification** <br>\n",
    "Kernels: Linear, rbf, poly <br>\n",
    "Gammas: 0.1, 1, 10, 100 <br>\n",
    "Cs: 0.1, 1, 10, 100\n",
    "\n",
    "**XGBoost Classification** <br>\n",
    "Learning rate (eta) : 0.01, 0.1, 1 <br>\n",
    "Max depth: 2, 5, 10 <br>\n",
    "Number of Estimators: 2, 5, 10 \n",
    "\n",
    "After the best hyperparameters are found and each model is run, we will then test the performance of the model using an accuracy score, a confusion matrix, an roc curve, finding the area under the curve(AUC), and looking at the classification report.  These are the scores that will be compared to the baseline model.\n",
    "\n",
    "The ideal targeted metrics are: <br>\n",
    "1. Accuracy of at least 95% <br>\n",
    "2. Less than 2.5% false negatives <br>\n",
    "3. A recall of at least 95% <br>\n",
    "4. AUC of at least 99%\n"
   ]
  },
  {
   "cell_type": "markdown",
   "metadata": {},
   "source": [
    "#### Importing and examining the data\n",
    "\n",
    "I will first import anything that I need, including the same split data that was used in the baseline model. "
   ]
  },
  {
   "cell_type": "code",
   "execution_count": 1,
   "metadata": {},
   "outputs": [],
   "source": [
    "#Import everything that I plan on using during this project\n",
    "import pandas as pd\n",
    "import numpy as np\n",
    "import os\n",
    "import pickle\n",
    "import matplotlib.pyplot as plt\n",
    "import seaborn as sns\n",
    "\n",
    "#Import models that I want to use\n",
    "from sklearn.model_selection import GridSearchCV\n",
    "from sklearn.neighbors import KNeighborsClassifier\n",
    "from sklearn import svm\n",
    "import xgboost as xgb\n",
    "\n",
    "#Import scoring methods for the models\n",
    "from sklearn.model_selection import cross_val_score\n",
    "from sklearn.datasets import make_classification\n",
    "from sklearn.metrics import accuracy_score\n",
    "from sklearn.metrics import confusion_matrix\n",
    "from sklearn.metrics import plot_confusion_matrix\n",
    "from sklearn.metrics import auc, roc_curve, roc_auc_score\n",
    "from sklearn.model_selection import validation_curve\n",
    "from sklearn.metrics import classification_report\n",
    "\n",
    "#ignore warning messages to ensure clean outputs\n",
    "import warnings\n",
    "warnings.filterwarnings('ignore')"
   ]
  },
  {
   "cell_type": "code",
   "execution_count": 2,
   "metadata": {},
   "outputs": [],
   "source": [
    "#Import all of the models that will be used, starting with the models of the full data\n",
    "X_train_f = pd.read_csv('X_train_f.csv', index_col=0)\n",
    "X_test_f = pd.read_csv('X_test_f.csv', index_col=0)\n",
    "y_train_f = pd.read_csv('y_train_f.csv', index_col=0)\n",
    "y_test_f = pd.read_csv('y_test_f.csv', index_col=0)\n",
    "\n",
    "#Now the partial data\n",
    "X_train_p = pd.read_csv('X_train_p.csv', index_col=0)\n",
    "X_test_p = pd.read_csv('X_test_p.csv', index_col=0)\n",
    "y_train_p = pd.read_csv('y_train_p.csv', index_col=0)\n",
    "y_test_p = pd.read_csv('y_test_p.csv', index_col=0)"
   ]
  },
  {
   "cell_type": "code",
   "execution_count": 3,
   "metadata": {},
   "outputs": [
    {
     "data": {
      "text/plain": [
       "((455, 28), (114, 28))"
      ]
     },
     "execution_count": 3,
     "metadata": {},
     "output_type": "execute_result"
    }
   ],
   "source": [
    "X_train_f.shape, X_test_f.shape"
   ]
  },
  {
   "cell_type": "code",
   "execution_count": 4,
   "metadata": {},
   "outputs": [
    {
     "data": {
      "text/plain": [
       "((455, 1), (114, 1))"
      ]
     },
     "execution_count": 4,
     "metadata": {},
     "output_type": "execute_result"
    }
   ],
   "source": [
    "y_train_f.shape, y_test_f.shape"
   ]
  },
  {
   "cell_type": "code",
   "execution_count": 5,
   "metadata": {},
   "outputs": [
    {
     "data": {
      "text/plain": [
       "((455, 5), (114, 5))"
      ]
     },
     "execution_count": 5,
     "metadata": {},
     "output_type": "execute_result"
    }
   ],
   "source": [
    "X_train_p.shape, X_test_p.shape"
   ]
  },
  {
   "cell_type": "code",
   "execution_count": 6,
   "metadata": {},
   "outputs": [
    {
     "data": {
      "text/plain": [
       "((455, 1), (114, 1))"
      ]
     },
     "execution_count": 6,
     "metadata": {},
     "output_type": "execute_result"
    }
   ],
   "source": [
    "y_train_p.shape, y_test_p.shape"
   ]
  },
  {
   "cell_type": "markdown",
   "metadata": {},
   "source": [
    "#### Modeling with KNN\n",
    "\n",
    "The numbers look accurate, so now it's time to model.  For each model, I will first run GridSearchCV with a variety of hyperparameter options to see which is the best for the full variables and partial variables.  I will take those hyperparameters and run them with each model, and then score them.  These will be compared to the ideal target metrics to find the best model.\n",
    "\n",
    "We will start with KNN. As a refresher, the hyperparameters used are:<br>\n",
    "Number of Neighbors: Range from 1-10 <br>\n",
    "P (Power parameter for the Minkowski metric): 1(Manhattan Distance), 2(Euclidean Distance)<br>\n",
    "Weights: Uniform or distance"
   ]
  },
  {
   "cell_type": "code",
   "execution_count": 9,
   "metadata": {},
   "outputs": [
    {
     "data": {
      "text/plain": [
       "GridSearchCV(cv=5, estimator=KNeighborsClassifier(), n_jobs=-1,\n",
       "             param_grid={'n_neighbors': [1, 2, 3, 4, 5, 6, 7, 8, 9],\n",
       "                         'p': [1, 2], 'weights': ['uniform', 'distance']})"
      ]
     },
     "execution_count": 9,
     "metadata": {},
     "output_type": "execute_result"
    }
   ],
   "source": [
    "#First run KNN for the full model\n",
    "knn = KNeighborsClassifier()\n",
    "n_neighbors = list(range(1,10))\n",
    "param_knn= {'n_neighbors':n_neighbors, 'p':[1,2],'weights':['uniform','distance']}\n",
    "\n",
    "gs_knn_f = GridSearchCV(knn, param_knn, cv=5, n_jobs=-1)\n",
    "gs_knn_f.fit(X_train_f, y_train_f)"
   ]
  },
  {
   "cell_type": "code",
   "execution_count": 10,
   "metadata": {},
   "outputs": [
    {
     "data": {
      "text/plain": [
       "{'n_neighbors': 6, 'p': 1, 'weights': 'distance'}"
      ]
     },
     "execution_count": 10,
     "metadata": {},
     "output_type": "execute_result"
    }
   ],
   "source": [
    "gs_knn_f.best_params_"
   ]
  },
  {
   "cell_type": "code",
   "execution_count": 18,
   "metadata": {},
   "outputs": [
    {
     "data": {
      "text/plain": [
       "0.956140350877193"
      ]
     },
     "execution_count": 18,
     "metadata": {},
     "output_type": "execute_result"
    }
   ],
   "source": [
    "knn_f = KNeighborsClassifier(n_neighbors=6, p=1, weights='distance')\n",
    "model_knn_f = knn_f.fit(X_train_f,y_train_f)\n",
    "y_pred_knn_f = model_knn_f.predict(X_test_f)\n",
    "accuracy_score_knn_f = accuracy_score(y_test_f, y_pred_knn_f)\n",
    "accuracy_score_knn_f"
   ]
  },
  {
   "cell_type": "code",
   "execution_count": 20,
   "metadata": {},
   "outputs": [
    {
     "data": {
      "text/plain": [
       "<sklearn.metrics._plot.confusion_matrix.ConfusionMatrixDisplay at 0x1b867ea66d0>"
      ]
     },
     "execution_count": 20,
     "metadata": {},
     "output_type": "execute_result"
    },
    {
     "data": {
      "image/png": "[encoded data removed]",
      "text/plain": [
       "<Figure size 432x288 with 2 Axes>"
      ]
     },
     "metadata": {
      "needs_background": "light"
     },
     "output_type": "display_data"
    }
   ],
   "source": [
    "#Confussion matrix\n",
    "knn_f_confusion_matrix = plot_confusion_matrix(model_knn_f, X_test_f, y_test_f)\n",
    "knn_f_confusion_matrix"
   ]
  },
  {
   "cell_type": "code",
   "execution_count": 21,
   "metadata": {},
   "outputs": [],
   "source": [
    "#Create a function for plotting ROC curve that can be used multiple times.\n",
    "def plot_roc_curve(y_test, y_pred_prob, title, label=None):\n",
    "    false_positive_rate, true_positive_rate, thresholds = roc_curve(y_test, y_pred_prob)\n",
    "    plt.plot(false_positive_rate, true_positive_rate, linewidth=2, label=label)\n",
    "    plt.plot([0, 1], [0, 1], 'r', linewidth=4)\n",
    "    plt.axis([0, 1, 0, 1])\n",
    "    plt.xlabel('False Positive Rate (FPR)', fontsize=15)\n",
    "    plt.ylabel('True Positive Rate (TPR)', fontsize=15)\n",
    "    plt.title(title,fontsize=15)\n",
    "    plt.show()"
   ]
  },
  {
   "cell_type": "code",
   "execution_count": 23,
   "metadata": {},
   "outputs": [
    {
     "data": {
      "image/png": "[encoded data removed]",
      "text/plain": [
       "<Figure size 432x288 with 1 Axes>"
      ]
     },
     "metadata": {
      "needs_background": "light"
     },
     "output_type": "display_data"
    }
   ],
   "source": [
    "#plot the ROC curve\n",
    "y_pred_prob_knn_f = knn_f.predict_proba(X_test_f)[:,1]\n",
    "plot_roc_curve(y_test_f,y_pred_prob_knn_f,'ROC Curve KNN Full Data')"
   ]
  },
  {
   "cell_type": "code",
   "execution_count": 24,
   "metadata": {},
   "outputs": [
    {
     "name": "stdout",
     "output_type": "stream",
     "text": [
      "AUC:  0.9787094660989191\n"
     ]
    }
   ],
   "source": [
    "#Calculate the area under the curve.\n",
    "roc_score_knn_f = roc_auc_score(y_test_f, y_pred_prob_knn_f)\n",
    "print(\"AUC: \", roc_score_knn_f)"
   ]
  },
  {
   "cell_type": "code",
   "execution_count": 26,
   "metadata": {},
   "outputs": [
    {
     "name": "stdout",
     "output_type": "stream",
     "text": [
      "              precision    recall  f1-score   support\n",
      "\n",
      "           0       0.95      0.99      0.97        71\n",
      "           1       0.97      0.91      0.94        43\n",
      "\n",
      "    accuracy                           0.96       114\n",
      "   macro avg       0.96      0.95      0.95       114\n",
      "weighted avg       0.96      0.96      0.96       114\n",
      "\n"
     ]
    }
   ],
   "source": [
    "# Classification report, with a focus on recall\n",
    "class_rep_knn_f = classification_report(y_test_f, y_pred_knn_f)\n",
    "print(class_rep_knn_f)"
   ]
  },
  {
   "cell_type": "markdown",
   "metadata": {},
   "source": [
    "None of these metrics reached the ideal threshold and did not even reach the logistic regression base model numbers.  We will also run the tests with the partial dataset, starting with reruning the GridSearchCV in case the ideal parameters are different."
   ]
  },
  {
   "cell_type": "code",
   "execution_count": 27,
   "metadata": {},
   "outputs": [
    {
     "data": {
      "text/plain": [
       "GridSearchCV(cv=5, estimator=KNeighborsClassifier(), n_jobs=-1,\n",
       "             param_grid={'n_neighbors': [1, 2, 3, 4, 5, 6, 7, 8, 9],\n",
       "                         'p': [1, 2], 'weights': ['uniform', 'distance']})"
      ]
     },
     "execution_count": 27,
     "metadata": {},
     "output_type": "execute_result"
    }
   ],
   "source": [
    "knn = KNeighborsClassifier()\n",
    "\n",
    "gs_knn_p = GridSearchCV(knn, param_knn, cv=5, n_jobs=-1)\n",
    "gs_knn_p.fit(X_train_p, y_train_p)"
   ]
  },
  {
   "cell_type": "code",
   "execution_count": 28,
   "metadata": {},
   "outputs": [
    {
     "data": {
      "text/plain": [
       "{'n_neighbors': 9, 'p': 1, 'weights': 'distance'}"
      ]
     },
     "execution_count": 28,
     "metadata": {},
     "output_type": "execute_result"
    }
   ],
   "source": [
    "gs_knn_p.best_params_"
   ]
  },
  {
   "cell_type": "code",
   "execution_count": 29,
   "metadata": {},
   "outputs": [
    {
     "data": {
      "text/plain": [
       "0.9122807017543859"
      ]
     },
     "execution_count": 29,
     "metadata": {},
     "output_type": "execute_result"
    }
   ],
   "source": [
    "knn_p = KNeighborsClassifier(n_neighbors=9, p=1, weights='distance')\n",
    "model_knn_p = knn_p.fit(X_train_p,y_train_p)\n",
    "y_pred_knn_p = model_knn_p.predict(X_test_p)\n",
    "accuracy_score_knn_p = accuracy_score(y_test_p, y_pred_knn_p)\n",
    "accuracy_score_knn_p"
   ]
  },
  {
   "cell_type": "code",
   "execution_count": 30,
   "metadata": {},
   "outputs": [
    {
     "data": {
      "text/plain": [
       "<sklearn.metrics._plot.confusion_matrix.ConfusionMatrixDisplay at 0x1b8683af820>"
      ]
     },
     "execution_count": 30,
     "metadata": {},
     "output_type": "execute_result"
    },
    {
     "data": {
      "image/png": "[encoded data removed]",
      "text/plain": [
       "<Figure size 432x288 with 2 Axes>"
      ]
     },
     "metadata": {
      "needs_background": "light"
     },
     "output_type": "display_data"
    }
   ],
   "source": [
    "#Confussion matrix\n",
    "knn_p_confusion_matrix = plot_confusion_matrix(model_knn_p, X_test_p, y_test_p)\n",
    "knn_p_confusion_matrix"
   ]
  },
  {
   "cell_type": "code",
   "execution_count": 31,
   "metadata": {},
   "outputs": [
    {
     "data": {
      "image/png": "[encoded data removed]",
      "text/plain": [
       "<Figure size 432x288 with 1 Axes>"
      ]
     },
     "metadata": {
      "needs_background": "light"
     },
     "output_type": "display_data"
    }
   ],
   "source": [
    "#plot the ROC curve\n",
    "y_pred_prob_knn_p = knn_p.predict_proba(X_test_p)[:,1]\n",
    "plot_roc_curve(y_test_p,y_pred_prob_knn_p,'ROC Curve KNN Partial Data')"
   ]
  },
  {
   "cell_type": "code",
   "execution_count": 32,
   "metadata": {},
   "outputs": [
    {
     "name": "stdout",
     "output_type": "stream",
     "text": [
      "AUC:  0.9553846153846153\n"
     ]
    }
   ],
   "source": [
    "#Calculate the area under the curve.\n",
    "roc_score_knn_p = roc_auc_score(y_test_p, y_pred_prob_knn_p)\n",
    "print(\"AUC: \", roc_score_knn_p)"
   ]
  },
  {
   "cell_type": "code",
   "execution_count": 33,
   "metadata": {},
   "outputs": [
    {
     "name": "stdout",
     "output_type": "stream",
     "text": [
      "              precision    recall  f1-score   support\n",
      "\n",
      "           0       0.95      0.92      0.93        75\n",
      "           1       0.85      0.90      0.88        39\n",
      "\n",
      "    accuracy                           0.91       114\n",
      "   macro avg       0.90      0.91      0.90       114\n",
      "weighted avg       0.91      0.91      0.91       114\n",
      "\n"
     ]
    }
   ],
   "source": [
    "# Classification report, with a focus on recall\n",
    "class_rep_knn_p = classification_report(y_test_p, y_pred_knn_p)\n",
    "print(class_rep_knn_p)"
   ]
  },
  {
   "cell_type": "markdown",
   "metadata": {},
   "source": [
    "These numbers are even worse.  We will visualize the numbers later, but none of the numbers looked to be as good as the baseline model.  We will run the SVC modeling."
   ]
  },
  {
   "cell_type": "markdown",
   "metadata": {},
   "source": [
    "#### Modeling with SVC\n",
    "\n",
    "Now to model with SVC.  Both partial and full data will be analyzed, and GridSearchCV will be run to find the optimal hyperparameters.  As a refresher, the hyperparameters used are:<br>\n",
    "Kernels: Linear, rbf, poly <br>\n",
    "Gammas: 0.1, 1, 10, 100 <br>\n",
    "Cs: 0.1, 1, 10, 100"
   ]
  },
  {
   "cell_type": "code",
   "execution_count": null,
   "metadata": {},
   "outputs": [],
   "source": [
    "#Gridsearch with full model\n",
    "svc = svm.SVC()\n",
    "param_svc = {'kernel':['linear','rbf','poly'],'gamma':[0.1,1,10,100],'C':[0.1,1,10,100]}\n",
    "\n",
    "gs_svc_f = GridSearchCV(svc, param_svc, cv=5, n_jobs=-1)\n",
    "gs_svc_f.fit(X_train_f, y_train_f)"
   ]
  },
  {
   "cell_type": "code",
   "execution_count": null,
   "metadata": {},
   "outputs": [],
   "source": []
  }
 ],
 "metadata": {
  "kernelspec": {
   "display_name": "Python 3",
   "language": "python",
   "name": "python3"
  },
  "language_info": {
   "codemirror_mode": {
    "name": "ipython",
    "version": 3
   },
   "file_extension": ".py",
   "mimetype": "text/x-python",
   "name": "python",
   "nbconvert_exporter": "python",
   "pygments_lexer": "ipython3",
   "version": "3.8.3"
  }
 },
 "nbformat": 4,
 "nbformat_minor": 4
}
