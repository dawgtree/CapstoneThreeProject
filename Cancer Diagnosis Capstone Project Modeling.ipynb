{
 "cells": [
  {
   "cell_type": "markdown",
   "metadata": {},
   "source": [
    "## Cancer Diagnosis Capstone Project Modeling\n",
    "\n",
    "The purpose of this part of the project is to use different modeling methods in order to determine if there is a model that performs better than the Logistic Regression baseline model in predicting whether a breast cancer tumor is benign or malignant.  To recap, two datasets are being compared.  The first is the dataset with all of the original variables, with an exception of perimeter mean and area mean, because they are direct correlations to radius.  The second is the dataset with all of the highly correlated variables used.  This only leaves five variables, which are: <br>\n",
    "radius mean<br>\n",
    "texture mean<br>\n",
    "smoothness mean<br>\n",
    "area standard error<br>\n",
    "concavity standard error\n",
    "\n",
    "Both of these models will be used throughout.  The models that are going to be used are (with the different hyperparameters that will be compared using GridSearchCV):<br>\n",
    "**K-Nearest Neighbors (KNN)** <br>\n",
    "Number of Neighbors: Range from 1-10 <br>\n",
    "P (Power parameter for the Minkowski metric): 1(Manhattan Distance), 2(Euclidean Distance)<br>\n",
    "Weights: Uniform or distance\n",
    "\n",
    "**Random Forest Classification** <br>\n",
    "Number of estimators: 100, 200, 300, 400, 500 <br>\n",
    "Max depth: 10, 30, 50 <br>\n",
    "Max features: auto, sqrt, log2\n",
    "\n",
    "**XGBoost Classification** <br>\n",
    "Learning rate (eta) : 0.01, 0.1, 1 <br>\n",
    "Max depth: 2, 5, 10 <br>\n",
    "Number of Estimators: 2, 5, 10 \n",
    "\n",
    "After the best hyperparameters are found and each model is run, we will then test the performance of the model using an accuracy score, a confusion matrix, an roc curve, finding the area under the curve(AUC), and looking at the classification report.  These are the scores that will be compared to the baseline model.\n",
    "\n",
    "The ideal targeted metrics are: <br>\n",
    "1. Accuracy of at least 97% <br>\n",
    "2. Less than 2 % false negatives <br>\n",
    "3. A recall of at least 95% <br>\n",
    "4. AUC of at least 99%\n"
   ]
  },
  {
   "cell_type": "markdown",
   "metadata": {},
   "source": [
    "#### Importing and examining the data\n",
    "\n",
    "I will first import anything that I need, including the same split data that was used in the baseline model. "
   ]
  },
  {
   "cell_type": "code",
   "execution_count": 1,
   "metadata": {},
   "outputs": [],
   "source": [
    "#Import everything that I plan on using during this project\n",
    "import pandas as pd\n",
    "import numpy as np\n",
    "import os\n",
    "import pickle\n",
    "import matplotlib.pyplot as plt\n",
    "import seaborn as sns\n",
    "\n",
    "#Import models that I want to use\n",
    "from sklearn.model_selection import GridSearchCV\n",
    "from sklearn.neighbors import KNeighborsClassifier\n",
    "from sklearn.ensemble import RandomForestClassifier\n",
    "from xgboost import XGBClassifier\n",
    "\n",
    "#Import scoring methods for the models\n",
    "from sklearn.model_selection import cross_val_score\n",
    "from sklearn.datasets import make_classification\n",
    "from sklearn.metrics import accuracy_score\n",
    "from sklearn.metrics import confusion_matrix\n",
    "from sklearn.metrics import plot_confusion_matrix\n",
    "from sklearn.metrics import auc, roc_curve, roc_auc_score\n",
    "from sklearn.model_selection import validation_curve\n",
    "from sklearn.metrics import classification_report\n",
    "\n",
    "#ignore warning messages to ensure clean outputs\n",
    "import warnings\n",
    "warnings.filterwarnings('ignore')"
   ]
  },
  {
   "cell_type": "code",
   "execution_count": 2,
   "metadata": {},
   "outputs": [],
   "source": [
    "#Import all of the models that will be used, starting with the models of the full data\n",
    "X_train_f = pd.read_csv('X_train_f.csv', index_col=0)\n",
    "X_test_f = pd.read_csv('X_test_f.csv', index_col=0)\n",
    "y_train_f = pd.read_csv('y_train_f.csv', index_col=0)\n",
    "y_test_f = pd.read_csv('y_test_f.csv', index_col=0)\n",
    "\n",
    "#Now the partial data\n",
    "X_train_p = pd.read_csv('X_train_p.csv', index_col=0)\n",
    "X_test_p = pd.read_csv('X_test_p.csv', index_col=0)\n",
    "y_train_p = pd.read_csv('y_train_p.csv', index_col=0)\n",
    "y_test_p = pd.read_csv('y_test_p.csv', index_col=0)"
   ]
  },
  {
   "cell_type": "code",
   "execution_count": 3,
   "metadata": {},
   "outputs": [
    {
     "data": {
      "text/plain": [
       "((455, 28), (114, 28))"
      ]
     },
     "execution_count": 3,
     "metadata": {},
     "output_type": "execute_result"
    }
   ],
   "source": [
    "X_train_f.shape, X_test_f.shape"
   ]
  },
  {
   "cell_type": "code",
   "execution_count": 4,
   "metadata": {},
   "outputs": [
    {
     "data": {
      "text/plain": [
       "((455, 1), (114, 1))"
      ]
     },
     "execution_count": 4,
     "metadata": {},
     "output_type": "execute_result"
    }
   ],
   "source": [
    "y_train_f.shape, y_test_f.shape"
   ]
  },
  {
   "cell_type": "code",
   "execution_count": 5,
   "metadata": {},
   "outputs": [
    {
     "data": {
      "text/plain": [
       "((455, 5), (114, 5))"
      ]
     },
     "execution_count": 5,
     "metadata": {},
     "output_type": "execute_result"
    }
   ],
   "source": [
    "X_train_p.shape, X_test_p.shape"
   ]
  },
  {
   "cell_type": "code",
   "execution_count": 6,
   "metadata": {},
   "outputs": [
    {
     "data": {
      "text/plain": [
       "((455, 1), (114, 1))"
      ]
     },
     "execution_count": 6,
     "metadata": {},
     "output_type": "execute_result"
    }
   ],
   "source": [
    "y_train_p.shape, y_test_p.shape"
   ]
  },
  {
   "cell_type": "markdown",
   "metadata": {},
   "source": [
    "#### Modeling with KNN\n",
    "\n",
    "The numbers look accurate, so now it's time to model.  For each model, I will first run GridSearchCV with a variety of hyperparameter options to see which is the best for the full variables and partial variables.  I will take those hyperparameters and run them with each model, and then score them.  These will be compared to the ideal target metrics to find the best model.\n",
    "\n",
    "We will start with KNN. As a refresher, the hyperparameters used are:<br>\n",
    "Number of Neighbors: Range from 1-10 <br>\n",
    "P (Power parameter for the Minkowski metric): 1(Manhattan Distance), 2(Euclidean Distance)<br>\n",
    "Weights: Uniform or distance"
   ]
  },
  {
   "cell_type": "code",
   "execution_count": 7,
   "metadata": {},
   "outputs": [
    {
     "data": {
      "text/plain": [
       "GridSearchCV(cv=5, estimator=KNeighborsClassifier(), n_jobs=-1,\n",
       "             param_grid={'n_neighbors': [1, 2, 3, 4, 5, 6, 7, 8, 9],\n",
       "                         'p': [1, 2], 'weights': ['uniform', 'distance']})"
      ]
     },
     "execution_count": 7,
     "metadata": {},
     "output_type": "execute_result"
    }
   ],
   "source": [
    "#First run KNN for the full model\n",
    "knn = KNeighborsClassifier()\n",
    "n_neighbors = list(range(1,10))\n",
    "param_knn= {'n_neighbors':n_neighbors, 'p':[1,2],'weights':['uniform','distance']}\n",
    "\n",
    "gs_knn_f = GridSearchCV(knn, param_knn, cv=5, n_jobs=-1)\n",
    "gs_knn_f.fit(X_train_f, y_train_f)"
   ]
  },
  {
   "cell_type": "code",
   "execution_count": 8,
   "metadata": {},
   "outputs": [
    {
     "data": {
      "text/plain": [
       "{'n_neighbors': 6, 'p': 1, 'weights': 'distance'}"
      ]
     },
     "execution_count": 8,
     "metadata": {},
     "output_type": "execute_result"
    }
   ],
   "source": [
    "gs_knn_f.best_params_"
   ]
  },
  {
   "cell_type": "code",
   "execution_count": 9,
   "metadata": {},
   "outputs": [
    {
     "data": {
      "text/plain": [
       "0.956140350877193"
      ]
     },
     "execution_count": 9,
     "metadata": {},
     "output_type": "execute_result"
    }
   ],
   "source": [
    "knn_f = KNeighborsClassifier(n_neighbors=6, p=1, weights='distance')\n",
    "model_knn_f = knn_f.fit(X_train_f,y_train_f)\n",
    "y_pred_knn_f = model_knn_f.predict(X_test_f)\n",
    "accuracy_score_knn_f = accuracy_score(y_test_f, y_pred_knn_f)\n",
    "accuracy_score_knn_f"
   ]
  },
  {
   "cell_type": "code",
   "execution_count": 10,
   "metadata": {},
   "outputs": [
    {
     "data": {
      "text/plain": [
       "<sklearn.metrics._plot.confusion_matrix.ConfusionMatrixDisplay at 0x21254351d90>"
      ]
     },
     "execution_count": 10,
     "metadata": {},
     "output_type": "execute_result"
    },
    {
     "data": {
      "image/png": "[encoded data removed]",
      "text/plain": [
       "<Figure size 432x288 with 2 Axes>"
      ]
     },
     "metadata": {
      "needs_background": "light"
     },
     "output_type": "display_data"
    }
   ],
   "source": [
    "#Confussion matrix\n",
    "knn_f_confusion_matrix = plot_confusion_matrix(model_knn_f, X_test_f, y_test_f)\n",
    "knn_f_confusion_matrix"
   ]
  },
  {
   "cell_type": "code",
   "execution_count": 11,
   "metadata": {},
   "outputs": [],
   "source": [
    "#Create a function for plotting ROC curve that can be used multiple times.\n",
    "def plot_roc_curve(y_test, y_pred_prob, title, label=None):\n",
    "    false_positive_rate, true_positive_rate, thresholds = roc_curve(y_test, y_pred_prob)\n",
    "    plt.plot(false_positive_rate, true_positive_rate, linewidth=2, label=label)\n",
    "    plt.plot([0, 1], [0, 1], 'r', linewidth=4)\n",
    "    plt.axis([0, 1, 0, 1])\n",
    "    plt.xlabel('False Positive Rate (FPR)', fontsize=15)\n",
    "    plt.ylabel('True Positive Rate (TPR)', fontsize=15)\n",
    "    plt.title(title,fontsize=15)\n",
    "    plt.show()"
   ]
  },
  {
   "cell_type": "code",
   "execution_count": 12,
   "metadata": {},
   "outputs": [
    {
     "data": {
      "image/png": "[encoded data removed]",
      "text/plain": [
       "<Figure size 432x288 with 1 Axes>"
      ]
     },
     "metadata": {
      "needs_background": "light"
     },
     "output_type": "display_data"
    }
   ],
   "source": [
    "#plot the ROC curve\n",
    "y_pred_prob_knn_f = knn_f.predict_proba(X_test_f)[:,1]\n",
    "plot_roc_curve(y_test_f,y_pred_prob_knn_f,'ROC Curve KNN Full Data')"
   ]
  },
  {
   "cell_type": "code",
   "execution_count": 13,
   "metadata": {},
   "outputs": [
    {
     "name": "stdout",
     "output_type": "stream",
     "text": [
      "AUC:  0.9787094660989191\n"
     ]
    }
   ],
   "source": [
    "#Calculate the area under the curve.\n",
    "roc_score_knn_f = roc_auc_score(y_test_f, y_pred_prob_knn_f)\n",
    "print(\"AUC: \", roc_score_knn_f)"
   ]
  },
  {
   "cell_type": "code",
   "execution_count": 14,
   "metadata": {},
   "outputs": [
    {
     "name": "stdout",
     "output_type": "stream",
     "text": [
      "              precision    recall  f1-score   support\n",
      "\n",
      "           0       0.95      0.99      0.97        71\n",
      "           1       0.97      0.91      0.94        43\n",
      "\n",
      "    accuracy                           0.96       114\n",
      "   macro avg       0.96      0.95      0.95       114\n",
      "weighted avg       0.96      0.96      0.96       114\n",
      "\n"
     ]
    }
   ],
   "source": [
    "# Classification report, with a focus on recall\n",
    "class_rep_knn_f = classification_report(y_test_f, y_pred_knn_f)\n",
    "print(class_rep_knn_f)"
   ]
  },
  {
   "cell_type": "markdown",
   "metadata": {},
   "source": [
    "None of these metrics reached the ideal threshold and did not even reach the logistic regression base model numbers.  We will also run the tests with the partial dataset, starting with reruning the GridSearchCV in case the ideal parameters are different."
   ]
  },
  {
   "cell_type": "code",
   "execution_count": 15,
   "metadata": {},
   "outputs": [
    {
     "data": {
      "text/plain": [
       "GridSearchCV(cv=5, estimator=KNeighborsClassifier(), n_jobs=-1,\n",
       "             param_grid={'n_neighbors': [1, 2, 3, 4, 5, 6, 7, 8, 9],\n",
       "                         'p': [1, 2], 'weights': ['uniform', 'distance']})"
      ]
     },
     "execution_count": 15,
     "metadata": {},
     "output_type": "execute_result"
    }
   ],
   "source": [
    "knn = KNeighborsClassifier()\n",
    "\n",
    "gs_knn_p = GridSearchCV(knn, param_knn, cv=5, n_jobs=-1)\n",
    "gs_knn_p.fit(X_train_p, y_train_p)"
   ]
  },
  {
   "cell_type": "code",
   "execution_count": 16,
   "metadata": {},
   "outputs": [
    {
     "data": {
      "text/plain": [
       "{'n_neighbors': 9, 'p': 1, 'weights': 'distance'}"
      ]
     },
     "execution_count": 16,
     "metadata": {},
     "output_type": "execute_result"
    }
   ],
   "source": [
    "gs_knn_p.best_params_"
   ]
  },
  {
   "cell_type": "code",
   "execution_count": 17,
   "metadata": {},
   "outputs": [
    {
     "data": {
      "text/plain": [
       "0.9122807017543859"
      ]
     },
     "execution_count": 17,
     "metadata": {},
     "output_type": "execute_result"
    }
   ],
   "source": [
    "knn_p = KNeighborsClassifier(n_neighbors=9, p=1, weights='distance')\n",
    "model_knn_p = knn_p.fit(X_train_p,y_train_p)\n",
    "y_pred_knn_p = model_knn_p.predict(X_test_p)\n",
    "accuracy_score_knn_p = accuracy_score(y_test_p, y_pred_knn_p)\n",
    "accuracy_score_knn_p"
   ]
  },
  {
   "cell_type": "code",
   "execution_count": 18,
   "metadata": {},
   "outputs": [
    {
     "data": {
      "text/plain": [
       "<sklearn.metrics._plot.confusion_matrix.ConfusionMatrixDisplay at 0x21254c16970>"
      ]
     },
     "execution_count": 18,
     "metadata": {},
     "output_type": "execute_result"
    },
    {
     "data": {
      "image/png": "[encoded data removed]",
      "text/plain": [
       "<Figure size 432x288 with 2 Axes>"
      ]
     },
     "metadata": {
      "needs_background": "light"
     },
     "output_type": "display_data"
    }
   ],
   "source": [
    "#Confussion matrix\n",
    "knn_p_confusion_matrix = plot_confusion_matrix(model_knn_p, X_test_p, y_test_p)\n",
    "knn_p_confusion_matrix"
   ]
  },
  {
   "cell_type": "code",
   "execution_count": 19,
   "metadata": {},
   "outputs": [
    {
     "data": {
      "image/png": "[encoded data removed]",
      "text/plain": [
       "<Figure size 432x288 with 1 Axes>"
      ]
     },
     "metadata": {
      "needs_background": "light"
     },
     "output_type": "display_data"
    }
   ],
   "source": [
    "#plot the ROC curve\n",
    "y_pred_prob_knn_p = knn_p.predict_proba(X_test_p)[:,1]\n",
    "plot_roc_curve(y_test_p,y_pred_prob_knn_p,'ROC Curve KNN Partial Data')"
   ]
  },
  {
   "cell_type": "code",
   "execution_count": 20,
   "metadata": {},
   "outputs": [
    {
     "name": "stdout",
     "output_type": "stream",
     "text": [
      "AUC:  0.9553846153846153\n"
     ]
    }
   ],
   "source": [
    "#Calculate the area under the curve.\n",
    "roc_score_knn_p = roc_auc_score(y_test_p, y_pred_prob_knn_p)\n",
    "print(\"AUC: \", roc_score_knn_p)"
   ]
  },
  {
   "cell_type": "code",
   "execution_count": 21,
   "metadata": {},
   "outputs": [
    {
     "name": "stdout",
     "output_type": "stream",
     "text": [
      "              precision    recall  f1-score   support\n",
      "\n",
      "           0       0.95      0.92      0.93        75\n",
      "           1       0.85      0.90      0.88        39\n",
      "\n",
      "    accuracy                           0.91       114\n",
      "   macro avg       0.90      0.91      0.90       114\n",
      "weighted avg       0.91      0.91      0.91       114\n",
      "\n"
     ]
    }
   ],
   "source": [
    "# Classification report, with a focus on recall\n",
    "class_rep_knn_p = classification_report(y_test_p, y_pred_knn_p)\n",
    "print(class_rep_knn_p)"
   ]
  },
  {
   "cell_type": "markdown",
   "metadata": {},
   "source": [
    "These numbers are even worse.  We will visualize the numbers later, but none of the numbers looked to be as good as the baseline model.  We will run the Random Forest modeling."
   ]
  },
  {
   "cell_type": "markdown",
   "metadata": {},
   "source": [
    "#### Modeling with Random Forest Classifier\n",
    "\n",
    "Now to model with Random Forest Classifier.  Both partial and full data will be analyzed, and GridSearchCV will be run to find the optimal hyperparameters.  As a refresher, the hyperparameters used are:<br>\n",
    "Number of estimators: 100, 200, 300, 400, 500 <br>\n",
    "Max depth: 10, 30, 50 <br>\n",
    "Max features: auto, sqrt, log2"
   ]
  },
  {
   "cell_type": "code",
   "execution_count": 22,
   "metadata": {},
   "outputs": [
    {
     "data": {
      "text/plain": [
       "GridSearchCV(cv=5, estimator=RandomForestClassifier(), n_jobs=-1,\n",
       "             param_grid={'max_depth': [10, 30, 50],\n",
       "                         'max_features': ['auto', 'sqrt', 'log2'],\n",
       "                         'n_estimators': [100, 200, 300, 400, 500]})"
      ]
     },
     "execution_count": 22,
     "metadata": {},
     "output_type": "execute_result"
    }
   ],
   "source": [
    "#First run Random Forest for the full model\n",
    "rf = RandomForestClassifier()\n",
    "param_rf= {'n_estimators':[100,200,300,400,500], 'max_depth':[10,30,50],'max_features':['auto','sqrt','log2']}\n",
    "\n",
    "gs_rf_f = GridSearchCV(rf, param_rf, cv=5, n_jobs=-1)\n",
    "gs_rf_f.fit(X_train_f, y_train_f)"
   ]
  },
  {
   "cell_type": "code",
   "execution_count": 23,
   "metadata": {},
   "outputs": [
    {
     "data": {
      "text/plain": [
       "{'max_depth': 30, 'max_features': 'log2', 'n_estimators': 300}"
      ]
     },
     "execution_count": 23,
     "metadata": {},
     "output_type": "execute_result"
    }
   ],
   "source": [
    "gs_rf_f.best_params_"
   ]
  },
  {
   "cell_type": "code",
   "execution_count": 24,
   "metadata": {},
   "outputs": [
    {
     "data": {
      "text/plain": [
       "0.9649122807017544"
      ]
     },
     "execution_count": 24,
     "metadata": {},
     "output_type": "execute_result"
    }
   ],
   "source": [
    "rf_f = RandomForestClassifier(n_estimators=100, max_features='auto',max_depth=10)\n",
    "model_rf_f = rf_f.fit(X_train_f,y_train_f)\n",
    "y_pred_rf_f = model_rf_f.predict(X_test_f)\n",
    "accuracy_score_rf_f = accuracy_score(y_test_f, y_pred_rf_f)\n",
    "accuracy_score_rf_f"
   ]
  },
  {
   "cell_type": "code",
   "execution_count": 25,
   "metadata": {},
   "outputs": [
    {
     "data": {
      "text/plain": [
       "<sklearn.metrics._plot.confusion_matrix.ConfusionMatrixDisplay at 0x212543e0370>"
      ]
     },
     "execution_count": 25,
     "metadata": {},
     "output_type": "execute_result"
    },
    {
     "data": {
      "image/png": "[encoded data removed]",
      "text/plain": [
       "<Figure size 432x288 with 2 Axes>"
      ]
     },
     "metadata": {
      "needs_background": "light"
     },
     "output_type": "display_data"
    }
   ],
   "source": [
    "#Confussion matrix\n",
    "rf_f_confusion_matrix = plot_confusion_matrix(model_rf_f, X_test_f, y_test_f)\n",
    "rf_f_confusion_matrix"
   ]
  },
  {
   "cell_type": "code",
   "execution_count": 26,
   "metadata": {},
   "outputs": [
    {
     "data": {
      "image/png": "[encoded data removed]",
      "text/plain": [
       "<Figure size 432x288 with 1 Axes>"
      ]
     },
     "metadata": {
      "needs_background": "light"
     },
     "output_type": "display_data"
    }
   ],
   "source": [
    "#plot the ROC curve\n",
    "y_pred_prob_rf_f = rf_f.predict_proba(X_test_f)[:,1]\n",
    "plot_roc_curve(y_test_f,y_pred_prob_rf_f,'ROC Curve Random Forest Full Data')"
   ]
  },
  {
   "cell_type": "code",
   "execution_count": 27,
   "metadata": {},
   "outputs": [
    {
     "name": "stdout",
     "output_type": "stream",
     "text": [
      "AUC:  0.9955781198820832\n"
     ]
    }
   ],
   "source": [
    "#Calculate the area under the curve.\n",
    "roc_score_rf_f = roc_auc_score(y_test_f, y_pred_prob_rf_f)\n",
    "print(\"AUC: \", roc_score_rf_f)"
   ]
  },
  {
   "cell_type": "code",
   "execution_count": 28,
   "metadata": {},
   "outputs": [
    {
     "name": "stdout",
     "output_type": "stream",
     "text": [
      "              precision    recall  f1-score   support\n",
      "\n",
      "           0       0.96      0.99      0.97        71\n",
      "           1       0.98      0.93      0.95        43\n",
      "\n",
      "    accuracy                           0.96       114\n",
      "   macro avg       0.97      0.96      0.96       114\n",
      "weighted avg       0.97      0.96      0.96       114\n",
      "\n"
     ]
    }
   ],
   "source": [
    "# Classification report, with a focus on recall\n",
    "class_rep_rf_f = classification_report(y_test_f, y_pred_rf_f)\n",
    "print(class_rep_rf_f)"
   ]
  },
  {
   "cell_type": "markdown",
   "metadata": {},
   "source": [
    "The numbers look at little better than KNN but not as good as the baseline model.  It will be easier to compare visually later.  Now let's look at the Random Forest with the partial data."
   ]
  },
  {
   "cell_type": "code",
   "execution_count": 29,
   "metadata": {},
   "outputs": [
    {
     "data": {
      "text/plain": [
       "GridSearchCV(cv=5, estimator=RandomForestClassifier(), n_jobs=-1,\n",
       "             param_grid={'max_depth': [10, 30, 50],\n",
       "                         'max_features': ['auto', 'sqrt', 'log2'],\n",
       "                         'n_estimators': [100, 200, 300, 400, 500]})"
      ]
     },
     "execution_count": 29,
     "metadata": {},
     "output_type": "execute_result"
    }
   ],
   "source": [
    "rf_p = RandomForestClassifier()\n",
    "\n",
    "#Using same parameters as the full model\n",
    "gs_rf_p = GridSearchCV(rf_p, param_rf, cv=5, n_jobs=-1)\n",
    "gs_rf_p.fit(X_train_p, y_train_p)"
   ]
  },
  {
   "cell_type": "code",
   "execution_count": 30,
   "metadata": {},
   "outputs": [
    {
     "data": {
      "text/plain": [
       "{'max_depth': 30, 'max_features': 'auto', 'n_estimators': 300}"
      ]
     },
     "execution_count": 30,
     "metadata": {},
     "output_type": "execute_result"
    }
   ],
   "source": [
    "gs_rf_p.best_params_"
   ]
  },
  {
   "cell_type": "code",
   "execution_count": 31,
   "metadata": {},
   "outputs": [
    {
     "data": {
      "text/plain": [
       "0.9210526315789473"
      ]
     },
     "execution_count": 31,
     "metadata": {},
     "output_type": "execute_result"
    }
   ],
   "source": [
    "rf_p = RandomForestClassifier(n_estimators=300, max_features='sqrt',max_depth=10)\n",
    "model_rf_p = rf_p.fit(X_train_p,y_train_p)\n",
    "y_pred_rf_p = model_rf_p.predict(X_test_p)\n",
    "accuracy_score_rf_p = accuracy_score(y_test_p, y_pred_rf_p)\n",
    "accuracy_score_rf_p"
   ]
  },
  {
   "cell_type": "code",
   "execution_count": 32,
   "metadata": {},
   "outputs": [
    {
     "data": {
      "text/plain": [
       "<sklearn.metrics._plot.confusion_matrix.ConfusionMatrixDisplay at 0x212543c2820>"
      ]
     },
     "execution_count": 32,
     "metadata": {},
     "output_type": "execute_result"
    },
    {
     "data": {
      "image/png": "[encoded data removed]",
      "text/plain": [
       "<Figure size 432x288 with 2 Axes>"
      ]
     },
     "metadata": {
      "needs_background": "light"
     },
     "output_type": "display_data"
    }
   ],
   "source": [
    "#Confussion matrix\n",
    "rf_p_confusion_matrix = plot_confusion_matrix(model_rf_p, X_test_p, y_test_p)\n",
    "rf_p_confusion_matrix"
   ]
  },
  {
   "cell_type": "code",
   "execution_count": 33,
   "metadata": {},
   "outputs": [
    {
     "data": {
      "image/png": "[encoded data removed]",
      "text/plain": [
       "<Figure size 432x288 with 1 Axes>"
      ]
     },
     "metadata": {
      "needs_background": "light"
     },
     "output_type": "display_data"
    }
   ],
   "source": [
    "#plot the ROC curve\n",
    "y_pred_prob_rf_p = rf_p.predict_proba(X_test_p)[:,1]\n",
    "plot_roc_curve(y_test_p,y_pred_prob_rf_p,'ROC Curve Random Forest Partial Data')"
   ]
  },
  {
   "cell_type": "code",
   "execution_count": 34,
   "metadata": {},
   "outputs": [
    {
     "name": "stdout",
     "output_type": "stream",
     "text": [
      "AUC:  0.982905982905983\n"
     ]
    }
   ],
   "source": [
    "#Calculate the area under the curve.\n",
    "roc_score_rf_p = roc_auc_score(y_test_p, y_pred_prob_rf_p)\n",
    "print(\"AUC: \", roc_score_rf_p)"
   ]
  },
  {
   "cell_type": "code",
   "execution_count": 35,
   "metadata": {},
   "outputs": [
    {
     "name": "stdout",
     "output_type": "stream",
     "text": [
      "              precision    recall  f1-score   support\n",
      "\n",
      "           0       0.93      0.95      0.94        75\n",
      "           1       0.89      0.87      0.88        39\n",
      "\n",
      "    accuracy                           0.92       114\n",
      "   macro avg       0.91      0.91      0.91       114\n",
      "weighted avg       0.92      0.92      0.92       114\n",
      "\n"
     ]
    }
   ],
   "source": [
    "# Classification report, with a focus on recall\n",
    "class_rep_rf_p = classification_report(y_test_p, y_pred_rf_p)\n",
    "print(class_rep_rf_p)"
   ]
  },
  {
   "cell_type": "markdown",
   "metadata": {},
   "source": [
    "The important numbers got lower.  While feature importances couldn't be found on KNN, it can be found on Random Forest. Lets examine that before moving on to the next model."
   ]
  },
  {
   "cell_type": "code",
   "execution_count": 36,
   "metadata": {},
   "outputs": [
    {
     "data": {
      "text/plain": [
       "Text(0.5, 1.0, 'Feature Importance for Random Forest Full')"
      ]
     },
     "execution_count": 36,
     "metadata": {},
     "output_type": "execute_result"
    },
    {
     "data": {
      "image/png": "[encoded data removed]",
      "text/plain": [
       "<Figure size 432x288 with 1 Axes>"
      ]
     },
     "metadata": {
      "needs_background": "light"
     },
     "output_type": "display_data"
    }
   ],
   "source": [
    "feat_importances_rf_f = pd.Series(model_rf_f.feature_importances_, index=X_train_f.columns)\n",
    "feat_importances_rf_f.nlargest(15).plot(kind='barh')\n",
    "plt.xlabel('Feature Importance')\n",
    "plt.ylabel('Feature')\n",
    "plt.title(\"Feature Importance for Random Forest Full\")"
   ]
  },
  {
   "cell_type": "code",
   "execution_count": 37,
   "metadata": {},
   "outputs": [
    {
     "data": {
      "text/plain": [
       "Text(0.5, 1.0, 'Feature Importance for Random Forest Partial')"
      ]
     },
     "execution_count": 37,
     "metadata": {},
     "output_type": "execute_result"
    },
    {
     "data": {
      "image/png": "[encoded data removed]",
      "text/plain": [
       "<Figure size 432x288 with 1 Axes>"
      ]
     },
     "metadata": {
      "needs_background": "light"
     },
     "output_type": "display_data"
    }
   ],
   "source": [
    "feat_importances_rf_p = pd.Series(model_rf_p.feature_importances_, index=X_train_p.columns)\n",
    "feat_importances_rf_p.nlargest(5).plot(kind='barh')\n",
    "plt.xlabel('Feature Importance')\n",
    "plt.ylabel('Feature')\n",
    "plt.title(\"Feature Importance for Random Forest Partial\")"
   ]
  },
  {
   "cell_type": "markdown",
   "metadata": {},
   "source": [
    "It is interesting to note that a lot of the higher importance features in the full model were in the \"worst\" category, when I removed all of those from the reduced dataset."
   ]
  },
  {
   "cell_type": "markdown",
   "metadata": {},
   "source": [
    "#### Modeling with XGBoost\n",
    "\n",
    "Now to model with XGBoost.  Both partial and full data will be analyzed, and GridSearchCV will be run to find the optimal hyperparameters.  As a refresher, the hyperparameters used are:<br>\n",
    "Learning rate (eta) : 0.01, 0.1, 1 <br>\n",
    "Max depth: 2, 5, 10 <br>\n",
    "Number of Estimators: 2, 5, 10 "
   ]
  },
  {
   "cell_type": "code",
   "execution_count": 38,
   "metadata": {},
   "outputs": [
    {
     "name": "stdout",
     "output_type": "stream",
     "text": [
      "[14:09:17] WARNING: C:/Users/Administrator/workspace/xgboost-win64_release_1.3.0/src/learner.cc:1061: Starting in XGBoost 1.3.0, the default evaluation metric used with the objective 'binary:logistic' was changed from 'error' to 'logloss'. Explicitly set eval_metric if you'd like to restore the old behavior.\n"
     ]
    },
    {
     "data": {
      "text/plain": [
       "GridSearchCV(cv=5,\n",
       "             estimator=XGBClassifier(base_score=None, booster=None,\n",
       "                                     colsample_bylevel=None,\n",
       "                                     colsample_bynode=None,\n",
       "                                     colsample_bytree=None, gamma=None,\n",
       "                                     gpu_id=None, importance_type='gain',\n",
       "                                     interaction_constraints=None,\n",
       "                                     learning_rate=None, max_delta_step=None,\n",
       "                                     max_depth=None, min_child_weight=None,\n",
       "                                     missing=nan, monotone_constraints=None,\n",
       "                                     n_estimators=100, n_jobs=None,\n",
       "                                     num_parallel_tree=None, random_state=None,\n",
       "                                     reg_alpha=None, reg_lambda=None,\n",
       "                                     scale_pos_weight=None, subsample=None,\n",
       "                                     tree_method=None, validate_parameters=None,\n",
       "                                     verbosity=None),\n",
       "             n_jobs=-1,\n",
       "             param_grid={'learning_rate': [0.01, 0.1, 1],\n",
       "                         'max_depth': [2, 5, 10], 'n_estimators': [2, 5, 10]})"
      ]
     },
     "execution_count": 38,
     "metadata": {},
     "output_type": "execute_result"
    }
   ],
   "source": [
    "#First run XGBoost for the full model\n",
    "xgb = XGBClassifier()\n",
    "param_xgb= {'learning_rate':[0.01,0.1,1], 'max_depth':[2,5,10],'n_estimators':[2,5,10]}\n",
    "\n",
    "gs_xgb_f = GridSearchCV(xgb, param_xgb, cv=5, n_jobs=-1)\n",
    "gs_xgb_f.fit(X_train_f, y_train_f)"
   ]
  },
  {
   "cell_type": "code",
   "execution_count": 39,
   "metadata": {},
   "outputs": [
    {
     "data": {
      "text/plain": [
       "{'learning_rate': 1, 'max_depth': 2, 'n_estimators': 10}"
      ]
     },
     "execution_count": 39,
     "metadata": {},
     "output_type": "execute_result"
    }
   ],
   "source": [
    "gs_xgb_f.best_params_"
   ]
  },
  {
   "cell_type": "code",
   "execution_count": 40,
   "metadata": {},
   "outputs": [
    {
     "name": "stdout",
     "output_type": "stream",
     "text": [
      "[14:09:17] WARNING: C:/Users/Administrator/workspace/xgboost-win64_release_1.3.0/src/learner.cc:1061: Starting in XGBoost 1.3.0, the default evaluation metric used with the objective 'binary:logistic' was changed from 'error' to 'logloss'. Explicitly set eval_metric if you'd like to restore the old behavior.\n"
     ]
    },
    {
     "data": {
      "text/plain": [
       "0.9736842105263158"
      ]
     },
     "execution_count": 40,
     "metadata": {},
     "output_type": "execute_result"
    }
   ],
   "source": [
    "xgb_f = XGBClassifier(n_estimators=10, learning_rate=1,max_depth=2)\n",
    "model_xgb_f = xgb_f.fit(X_train_f,y_train_f)\n",
    "y_pred_xgb_f = model_xgb_f.predict(X_test_f)\n",
    "accuracy_score_xgb_f = accuracy_score(y_test_f, y_pred_xgb_f)\n",
    "accuracy_score_xgb_f"
   ]
  },
  {
   "cell_type": "code",
   "execution_count": 41,
   "metadata": {},
   "outputs": [
    {
     "data": {
      "text/plain": [
       "<sklearn.metrics._plot.confusion_matrix.ConfusionMatrixDisplay at 0x21255f929a0>"
      ]
     },
     "execution_count": 41,
     "metadata": {},
     "output_type": "execute_result"
    },
    {
     "data": {
      "image/png": "[encoded data removed]",
      "text/plain": [
       "<Figure size 432x288 with 2 Axes>"
      ]
     },
     "metadata": {
      "needs_background": "light"
     },
     "output_type": "display_data"
    }
   ],
   "source": [
    "#Confussion matrix\n",
    "xgb_f_confusion_matrix = plot_confusion_matrix(model_xgb_f, X_test_f, y_test_f)\n",
    "xgb_f_confusion_matrix"
   ]
  },
  {
   "cell_type": "code",
   "execution_count": 42,
   "metadata": {},
   "outputs": [
    {
     "data": {
      "image/png": "[encoded data removed]",
      "text/plain": [
       "<Figure size 432x288 with 1 Axes>"
      ]
     },
     "metadata": {
      "needs_background": "light"
     },
     "output_type": "display_data"
    }
   ],
   "source": [
    "#plot the ROC curve\n",
    "y_pred_prob_xgb_f = xgb_f.predict_proba(X_test_f)[:,1]\n",
    "plot_roc_curve(y_test_f,y_pred_prob_xgb_f,'ROC Curve XGBoost Full Data')"
   ]
  },
  {
   "cell_type": "code",
   "execution_count": 43,
   "metadata": {},
   "outputs": [
    {
     "name": "stdout",
     "output_type": "stream",
     "text": [
      "AUC:  0.9927939731411726\n"
     ]
    }
   ],
   "source": [
    "#Calculate the area under the curve.\n",
    "roc_score_xgb_f = roc_auc_score(y_test_f, y_pred_prob_xgb_f)\n",
    "print(\"AUC: \", roc_score_xgb_f)"
   ]
  },
  {
   "cell_type": "code",
   "execution_count": 44,
   "metadata": {},
   "outputs": [
    {
     "name": "stdout",
     "output_type": "stream",
     "text": [
      "              precision    recall  f1-score   support\n",
      "\n",
      "           0       0.97      0.99      0.98        71\n",
      "           1       0.98      0.95      0.96        43\n",
      "\n",
      "    accuracy                           0.97       114\n",
      "   macro avg       0.97      0.97      0.97       114\n",
      "weighted avg       0.97      0.97      0.97       114\n",
      "\n"
     ]
    }
   ],
   "source": [
    "# Classification report, with a focus on recall\n",
    "class_rep_xgb_f = classification_report(y_test_f, y_pred_xgb_f)\n",
    "print(class_rep_xgb_f)"
   ]
  },
  {
   "cell_type": "markdown",
   "metadata": {},
   "source": [
    "This is the most comparable to the baseline model so far.  Let's look at the XGBoost with the partial data."
   ]
  },
  {
   "cell_type": "code",
   "execution_count": 45,
   "metadata": {},
   "outputs": [
    {
     "name": "stdout",
     "output_type": "stream",
     "text": [
      "[14:09:18] WARNING: C:/Users/Administrator/workspace/xgboost-win64_release_1.3.0/src/learner.cc:1061: Starting in XGBoost 1.3.0, the default evaluation metric used with the objective 'binary:logistic' was changed from 'error' to 'logloss'. Explicitly set eval_metric if you'd like to restore the old behavior.\n"
     ]
    },
    {
     "data": {
      "text/plain": [
       "GridSearchCV(cv=5,\n",
       "             estimator=XGBClassifier(base_score=None, booster=None,\n",
       "                                     colsample_bylevel=None,\n",
       "                                     colsample_bynode=None,\n",
       "                                     colsample_bytree=None, gamma=None,\n",
       "                                     gpu_id=None, importance_type='gain',\n",
       "                                     interaction_constraints=None,\n",
       "                                     learning_rate=None, max_delta_step=None,\n",
       "                                     max_depth=None, min_child_weight=None,\n",
       "                                     missing=nan, monotone_constraints=None,\n",
       "                                     n_estimators=100, n_jobs=None,\n",
       "                                     num_parallel_tree=None, random_state=None,\n",
       "                                     reg_alpha=None, reg_lambda=None,\n",
       "                                     scale_pos_weight=None, subsample=None,\n",
       "                                     tree_method=None, validate_parameters=None,\n",
       "                                     verbosity=None),\n",
       "             n_jobs=-1,\n",
       "             param_grid={'learning_rate': [0.01, 0.1, 1],\n",
       "                         'max_depth': [2, 5, 10], 'n_estimators': [2, 5, 10]})"
      ]
     },
     "execution_count": 45,
     "metadata": {},
     "output_type": "execute_result"
    }
   ],
   "source": [
    "xgb = XGBClassifier()\n",
    "\n",
    "#Using same parameters as full model\n",
    "gs_xgb_p = GridSearchCV(xgb, param_xgb, cv=5, n_jobs=-1)\n",
    "gs_xgb_p.fit(X_train_p, y_train_p)"
   ]
  },
  {
   "cell_type": "code",
   "execution_count": 46,
   "metadata": {},
   "outputs": [
    {
     "data": {
      "text/plain": [
       "{'learning_rate': 1, 'max_depth': 2, 'n_estimators': 5}"
      ]
     },
     "execution_count": 46,
     "metadata": {},
     "output_type": "execute_result"
    }
   ],
   "source": [
    "gs_xgb_p.best_params_"
   ]
  },
  {
   "cell_type": "code",
   "execution_count": 47,
   "metadata": {},
   "outputs": [
    {
     "name": "stdout",
     "output_type": "stream",
     "text": [
      "[14:09:18] WARNING: C:/Users/Administrator/workspace/xgboost-win64_release_1.3.0/src/learner.cc:1061: Starting in XGBoost 1.3.0, the default evaluation metric used with the objective 'binary:logistic' was changed from 'error' to 'logloss'. Explicitly set eval_metric if you'd like to restore the old behavior.\n"
     ]
    },
    {
     "data": {
      "text/plain": [
       "0.9035087719298246"
      ]
     },
     "execution_count": 47,
     "metadata": {},
     "output_type": "execute_result"
    }
   ],
   "source": [
    "xgb_p = XGBClassifier(n_estimators=5, learning_rate=1,max_depth=2)\n",
    "model_xgb_p = xgb_p.fit(X_train_p,y_train_p)\n",
    "y_pred_xgb_p = model_xgb_p.predict(X_test_p)\n",
    "accuracy_score_xgb_p = accuracy_score(y_test_p, y_pred_xgb_p)\n",
    "accuracy_score_xgb_p"
   ]
  },
  {
   "cell_type": "code",
   "execution_count": 48,
   "metadata": {},
   "outputs": [
    {
     "data": {
      "text/plain": [
       "<sklearn.metrics._plot.confusion_matrix.ConfusionMatrixDisplay at 0x212560967c0>"
      ]
     },
     "execution_count": 48,
     "metadata": {},
     "output_type": "execute_result"
    },
    {
     "data": {
      "image/png": "[encoded data removed]",
      "text/plain": [
       "<Figure size 432x288 with 2 Axes>"
      ]
     },
     "metadata": {
      "needs_background": "light"
     },
     "output_type": "display_data"
    }
   ],
   "source": [
    "#Confussion matrix\n",
    "xgb_p_confusion_matrix = plot_confusion_matrix(model_xgb_p, X_test_p, y_test_p)\n",
    "xgb_p_confusion_matrix"
   ]
  },
  {
   "cell_type": "code",
   "execution_count": 49,
   "metadata": {},
   "outputs": [
    {
     "data": {
      "image/png": "[encoded data removed]",
      "text/plain": [
       "<Figure size 432x288 with 1 Axes>"
      ]
     },
     "metadata": {
      "needs_background": "light"
     },
     "output_type": "display_data"
    }
   ],
   "source": [
    "#plot the ROC curve\n",
    "y_pred_prob_xgb_p = xgb_p.predict_proba(X_test_p)[:,1]\n",
    "plot_roc_curve(y_test_p,y_pred_prob_xgb_p,'ROC Curve XGBoost Partial Data')"
   ]
  },
  {
   "cell_type": "code",
   "execution_count": 50,
   "metadata": {},
   "outputs": [
    {
     "name": "stdout",
     "output_type": "stream",
     "text": [
      "AUC:  0.9635897435897436\n"
     ]
    }
   ],
   "source": [
    "#Calculate the area under the curve.\n",
    "roc_score_xgb_p = roc_auc_score(y_test_p, y_pred_prob_xgb_p)\n",
    "print(\"AUC: \", roc_score_xgb_p)"
   ]
  },
  {
   "cell_type": "code",
   "execution_count": 51,
   "metadata": {},
   "outputs": [
    {
     "name": "stdout",
     "output_type": "stream",
     "text": [
      "              precision    recall  f1-score   support\n",
      "\n",
      "           0       0.94      0.91      0.93        75\n",
      "           1       0.83      0.90      0.86        39\n",
      "\n",
      "    accuracy                           0.90       114\n",
      "   macro avg       0.89      0.90      0.89       114\n",
      "weighted avg       0.91      0.90      0.90       114\n",
      "\n"
     ]
    }
   ],
   "source": [
    "# Classification report, with a focus on recall\n",
    "class_rep_xgb_p = classification_report(y_test_p, y_pred_xgb_p)\n",
    "print(class_rep_xgb_p)"
   ]
  },
  {
   "cell_type": "markdown",
   "metadata": {},
   "source": [
    "The scoring does not look as good as with the full data, but that has been pretty consisten throughout.  Let's compare the feature importance."
   ]
  },
  {
   "cell_type": "code",
   "execution_count": 52,
   "metadata": {},
   "outputs": [
    {
     "data": {
      "text/plain": [
       "Text(0.5, 1.0, 'Feature Importance for XGBoost Full')"
      ]
     },
     "execution_count": 52,
     "metadata": {},
     "output_type": "execute_result"
    },
    {
     "data": {
      "image/png": "[encoded data removed]",
      "text/plain": [
       "<Figure size 432x288 with 1 Axes>"
      ]
     },
     "metadata": {
      "needs_background": "light"
     },
     "output_type": "display_data"
    }
   ],
   "source": [
    "feat_importances_xgb_f = pd.Series(model_xgb_f.feature_importances_, index=X_train_f.columns)\n",
    "feat_importances_xgb_f.nlargest(15).plot(kind='barh')\n",
    "plt.xlabel('Feature Importance')\n",
    "plt.ylabel('Feature')\n",
    "plt.title(\"Feature Importance for XGBoost Full\")"
   ]
  },
  {
   "cell_type": "code",
   "execution_count": 53,
   "metadata": {},
   "outputs": [
    {
     "data": {
      "text/plain": [
       "Text(0.5, 1.0, 'Feature Importance for XGBoost Partial')"
      ]
     },
     "execution_count": 53,
     "metadata": {},
     "output_type": "execute_result"
    },
    {
     "data": {
      "image/png": "[encoded data removed]",
      "text/plain": [
       "<Figure size 432x288 with 1 Axes>"
      ]
     },
     "metadata": {
      "needs_background": "light"
     },
     "output_type": "display_data"
    }
   ],
   "source": [
    "feat_importances_rf_p = pd.Series(model_xgb_p.feature_importances_, index=X_train_p.columns)\n",
    "feat_importances_rf_p.nlargest(5).plot(kind='barh')\n",
    "plt.xlabel('Feature Importance')\n",
    "plt.ylabel('Feature')\n",
    "plt.title(\"Feature Importance for XGBoost Partial\")"
   ]
  },
  {
   "cell_type": "markdown",
   "metadata": {},
   "source": [
    "The difference is noticeable with the full datasets.  While the top seem to be the same variables, their order and level of importance is drastically different."
   ]
  },
  {
   "cell_type": "markdown",
   "metadata": {},
   "source": [
    "#### Visualizing and comparing the data\n",
    "\n",
    "Now that all the scores have been made, it's a good time to compare them to each other visually in order to get a better idea of what's better.  I will also load the data from the baseline linear regression models to compare."
   ]
  },
  {
   "cell_type": "code",
   "execution_count": 54,
   "metadata": {},
   "outputs": [],
   "source": [
    "#Logistic regression accuracy score and roc score\n",
    "accuracy_roc_score_lr_f = pd.read_csv('lr_full_scores.csv', index_col=0)\n",
    "accuracy_roc_score_lr_p = pd.read_csv('lr_part_scores.csv', index_col=0)\n",
    "\n",
    "#Divide these scores back into accuracy and roc for ease of graphing\n",
    "accuracy_score_lr_f = accuracy_roc_score_lr_f['accuracy_score_lr_full']\n",
    "roc_score_lr_f = accuracy_roc_score_lr_f['roc_score_f']\n",
    "\n",
    "accuracy_score_lr_p = accuracy_roc_score_lr_p['accuracy_score_lr_part']\n",
    "roc_score_lr_p = accuracy_roc_score_lr_p['roc_score_p']"
   ]
  },
  {
   "cell_type": "code",
   "execution_count": 55,
   "metadata": {},
   "outputs": [],
   "source": [
    "#Classification reports for Logistic Regression\n",
    "class_rep_lr_f = pd.read_csv('class_rep_f.csv', index_col=0)\n",
    "class_rep_lr_p = pd.read_csv('class_rep_p.csv', index_col=0)"
   ]
  },
  {
   "cell_type": "code",
   "execution_count": 56,
   "metadata": {},
   "outputs": [],
   "source": [
    "#Confusion matrices for Logistic Regression\n",
    "lr_f_confusion_matrix = pd.read_csv('lr_full_conf_matrix.csv', index_col=0)\n",
    "lr_p_confusion_matrix = pd.read_csv('lr_part_conf_matrix.csv', index_col=0)"
   ]
  },
  {
   "cell_type": "markdown",
   "metadata": {},
   "source": [
    "We are going to focus on the targeted metrics for the models that were established earlier.  As a refresher, they are: <br>\n",
    "1. Accuracy of at least 97% <br>\n",
    "2. Less than 2 % false negatives <br>\n",
    "3. A recall of at least 95% <br>\n",
    "4. AUC of at least 99%\n",
    "\n",
    "I'll graph each of these and see which ones, if any, 1. have a higher accuracy than the baseline model, and 2. meet the targeted metrics.  First we will graph the accuracy. "
   ]
  },
  {
   "cell_type": "code",
   "execution_count": 57,
   "metadata": {},
   "outputs": [
    {
     "data": {
      "image/png": "[encoded data removed]",
      "text/plain": [
       "<Figure size 432x288 with 1 Axes>"
      ]
     },
     "metadata": {
      "needs_background": "light"
     },
     "output_type": "display_data"
    }
   ],
   "source": [
    "all_accuracies = [accuracy_score_lr_f, accuracy_score_lr_p, accuracy_score_knn_f, accuracy_score_knn_p, accuracy_score_rf_f, accuracy_score_rf_p, accuracy_score_xgb_f, accuracy_score_xgb_p]\n",
    "labels = ['LogReg Full', 'LogReg Partial', 'KNN Full', 'KNN Partial', 'Rand For Full', 'Rand For Partial', 'XGB Full', 'XGB Partial']\n",
    "fig,ax = plt.subplots()\n",
    "acc_bar = ax.bar(labels,all_accuracies)\n",
    "plt.xticks(rotation = 90)\n",
    "ax.set_xlabel('Type of Model (Full or Partial Data)')\n",
    "ax.set_ylabel('Accuracy Score')\n",
    "ax.set_title('Accuracy of Each Model')\n",
    "plt.show()"
   ]
  },
  {
   "cell_type": "markdown",
   "metadata": {},
   "source": [
    "The most obvious first thing noticed is that the models with the full data consistently did better than the models with partial data.  In fact, the model that did best with partial data still was not as accurate as the model that was the worst with the full data.  Also when looking at the threshold,  logistic regression and XGBoost were the only ones that met that 97% threshold, both having the exact same accuracy.  So far, XGBoost has been the only model that is comparable to the baseline model, but all of the accuracies were high with a small difference.\n",
    "\n",
    "We will next look at false negatives, which are how many times a tumor was malignant but got falsely classified.  This would be the worst case scenario in diagnosis, because these obviously do not want to be missed. "
   ]
  },
  {
   "cell_type": "code",
   "execution_count": 58,
   "metadata": {},
   "outputs": [],
   "source": [
    "#Take the conversion matrixes that aren plotted and make a conversion matrix where individual values can be taken.\n",
    "\n",
    "#Confusion matrix for KNN\n",
    "knn_f_conf_mat = confusion_matrix(y_test_f, y_pred_knn_f)\n",
    "knn_p_conf_mat = confusion_matrix(y_test_p, y_pred_knn_p)\n",
    "\n",
    "#Confusion matrix for Random Forest\n",
    "rf_f_conf_mat = confusion_matrix(y_test_f, y_pred_rf_f)\n",
    "rf_p_conf_mat = confusion_matrix(y_test_p, y_pred_rf_p)\n",
    "\n",
    "#Confusion matrix for XGBoost\n",
    "xgb_f_conf_mat = confusion_matrix(y_test_f, y_pred_xgb_f)\n",
    "xgb_p_conf_mat = confusion_matrix(y_test_p, y_pred_xgb_p)"
   ]
  },
  {
   "cell_type": "code",
   "execution_count": 59,
   "metadata": {},
   "outputs": [],
   "source": [
    "#For each confusion matrix, the position of false negative is at the [1,0] spot, so that will be extracted and graphed.  I can also use these extractions later in Tableau. We can also use the same labels as the last graph\n",
    "false_neg_lr_f = lr_f_confusion_matrix.iloc[1,0]\n",
    "false_neg_lr_p = lr_p_confusion_matrix.iloc[1,0]\n",
    "false_neg_knn_f = knn_f_conf_mat[1][0]\n",
    "false_neg_knn_p = knn_p_conf_mat[1][0]\n",
    "false_neg_rf_f = rf_f_conf_mat[1][0]\n",
    "false_neg_rf_p = rf_p_conf_mat[1][0]\n",
    "false_neg_xgb_f = xgb_f_conf_mat[1][0]\n",
    "false_neg_xgb_p = xgb_p_conf_mat[1][0]"
   ]
  },
  {
   "cell_type": "code",
   "execution_count": 60,
   "metadata": {},
   "outputs": [
    {
     "data": {
      "image/png": "[encoded data removed]",
      "text/plain": [
       "<Figure size 432x288 with 1 Axes>"
      ]
     },
     "metadata": {
      "needs_background": "light"
     },
     "output_type": "display_data"
    }
   ],
   "source": [
    "false_negs = [false_neg_lr_f, false_neg_lr_p, false_neg_knn_f, false_neg_knn_p, false_neg_rf_f, false_neg_rf_p, false_neg_xgb_f, false_neg_xgb_p]\n",
    "fig,ax = plt.subplots()\n",
    "false_neg_bar = ax.bar(labels,false_negs)\n",
    "plt.xticks(rotation = 90)\n",
    "ax.set_xlabel('Type of Model (Full or Partial Data)')\n",
    "ax.set_ylabel('Count of False Negatives')\n",
    "ax.set_title('False Negatives for Each Model')\n",
    "plt.show()"
   ]
  },
  {
   "cell_type": "markdown",
   "metadata": {},
   "source": [
    "This data is a little easier to differentiate.  In this case, lower numbers are better, so the logistic regression with the full data performed best, followed by the XGB Full data.  The full datasets once again performed better overall. Logistic Regression and XGBoost were once again the only models that reached the threshold.\n",
    "\n",
    "Now we will look at the recall percentages.  The threshold here is 95%"
   ]
  },
  {
   "cell_type": "code",
   "execution_count": 61,
   "metadata": {},
   "outputs": [],
   "source": [
    "#In order to extract certain features from the classification report that we need, we need to make it a dictionary.\n",
    "\n",
    "#Classification report for KNN\n",
    "class_rep_knn_f_dic = classification_report(y_test_f, y_pred_knn_f,output_dict=True)\n",
    "class_rep_knn_p_dic = classification_report(y_test_p, y_pred_knn_p,output_dict=True)\n",
    "\n",
    "#Classification report for Random Forest\n",
    "class_rep_rf_f_dic = classification_report(y_test_f, y_pred_rf_f,output_dict=True)\n",
    "class_rep_rf_p_dic = classification_report(y_test_p, y_pred_rf_p,output_dict=True)\n",
    "\n",
    "#Classification report for XGBoost\n",
    "class_rep_xgb_f_dic = classification_report(y_test_f, y_pred_xgb_f,output_dict=True)\n",
    "class_rep_xgb_p_dic = classification_report(y_test_p, y_pred_xgb_p,output_dict=True)"
   ]
  },
  {
   "cell_type": "code",
   "execution_count": 62,
   "metadata": {},
   "outputs": [],
   "source": [
    "#Now that they are all in dictionaries, I will extract the ['1']['recall'] from each in order to graph.  I can use this later in Tableau as well.\n",
    "recall_lr_f = class_rep_lr_f.loc['1','recall']\n",
    "recall_lr_p = class_rep_lr_p.loc['1','recall']\n",
    "recall_knn_f = class_rep_knn_f_dic['1']['recall']\n",
    "recall_knn_p = class_rep_knn_p_dic['1']['recall']\n",
    "recall_rf_f = class_rep_rf_f_dic['1']['recall']\n",
    "recall_rf_p = class_rep_rf_p_dic['1']['recall']\n",
    "recall_xgb_f = class_rep_xgb_f_dic['1']['recall']\n",
    "recall_xgb_p = class_rep_xgb_p_dic['1']['recall']"
   ]
  },
  {
   "cell_type": "code",
   "execution_count": 63,
   "metadata": {
    "scrolled": true
   },
   "outputs": [
    {
     "data": {
      "image/png": "[encoded data removed]",
      "text/plain": [
       "<Figure size 432x288 with 1 Axes>"
      ]
     },
     "metadata": {
      "needs_background": "light"
     },
     "output_type": "display_data"
    }
   ],
   "source": [
    "recall = [recall_lr_f, recall_lr_p, recall_knn_f, recall_knn_p, recall_rf_f, recall_rf_p, recall_xgb_f, recall_xgb_p]\n",
    "fig,ax = plt.subplots()\n",
    "false_recall = ax.bar(labels,recall)\n",
    "plt.xticks(rotation = 90)\n",
    "ax.set_xlabel('Type of Model (Full or Partial Data)')\n",
    "ax.set_ylabel('Recall Percentage')\n",
    "ax.set_title('Recall Percentage for Each Model')\n",
    "plt.show()"
   ]
  },
  {
   "cell_type": "markdown",
   "metadata": {},
   "source": [
    "A pattern is starting to emerge, with logistic regression and XGB full being the best, followed by Random Forest.  It's worth looking at the actual numbers of the top two to see how close they are."
   ]
  },
  {
   "cell_type": "code",
   "execution_count": 64,
   "metadata": {},
   "outputs": [
    {
     "name": "stdout",
     "output_type": "stream",
     "text": [
      "Recall percentage for logistic regression:  0.9534883720930232\n",
      "Recall percentage for XGBoost:  0.9534883720930233\n"
     ]
    }
   ],
   "source": [
    "print('Recall percentage for logistic regression: ', recall_lr_f)\n",
    "print('Recall percentage for XGBoost: ', recall_xgb_f)"
   ]
  },
  {
   "cell_type": "markdown",
   "metadata": {},
   "source": [
    "They are the exact same and are the only ones that meet the threshold.\n",
    "\n",
    "We are to our final targeted metric, the AUC.  Fortunately this won't take more extracting than has already been done.  The threshold is 99%"
   ]
  },
  {
   "cell_type": "code",
   "execution_count": 65,
   "metadata": {},
   "outputs": [
    {
     "data": {
      "image/png": "[encoded data removed]",
      "text/plain": [
       "<Figure size 432x288 with 1 Axes>"
      ]
     },
     "metadata": {
      "needs_background": "light"
     },
     "output_type": "display_data"
    }
   ],
   "source": [
    "auc_scores = [roc_score_lr_f, roc_score_lr_p, roc_score_knn_f, roc_score_knn_p, roc_score_rf_f, roc_score_rf_p, roc_score_xgb_f, roc_score_xgb_p]\n",
    "\n",
    "fig,ax = plt.subplots()\n",
    "false_auc = ax.bar(labels,auc_scores)\n",
    "plt.xticks(rotation = 90)\n",
    "ax.set_xlabel('Type of Model (Full or Partial Data)')\n",
    "ax.set_ylabel('AUC Percentage')\n",
    "ax.set_title('AUC Percentage for Each Model')\n",
    "plt.show()"
   ]
  },
  {
   "cell_type": "markdown",
   "metadata": {},
   "source": [
    "This one is a little harder to tell by just looking at the graph, but I can tell that the full models have been consistently higher.  Let's look at their actual values to compare."
   ]
  },
  {
   "cell_type": "code",
   "execution_count": 66,
   "metadata": {},
   "outputs": [
    {
     "name": "stdout",
     "output_type": "stream",
     "text": [
      "AUC for logistic regression:  0    0.995087\n",
      "Name: roc_score_f, dtype: float64\n",
      "AUC for KNN:  0.9787094660989191\n",
      "AUC for Random Foreset:  0.9955781198820832\n",
      "AUC for XGBoost:  0.9927939731411726\n"
     ]
    }
   ],
   "source": [
    "print('AUC for logistic regression: ', roc_score_lr_f)\n",
    "print('AUC for KNN: ', roc_score_knn_f)\n",
    "print('AUC for Random Foreset: ', roc_score_rf_f)\n",
    "print('AUC for XGBoost: ', roc_score_xgb_f)"
   ]
  },
  {
   "cell_type": "markdown",
   "metadata": {},
   "source": [
    "#### Model Conclusion\n",
    "\n",
    "Logistic Regression, Random Forest, and XGBoost all meet the threshold, with Logistic Regression and Random Forest being slightly better than XGBoost.  However the difference was negligible.  Of the four factors that I measured, I considered the count of false negatives and the recall the two most important because I believe that the most important factor in diagnosing if a tumor is malignant or benign is making sure that we don't miss the malignant diagnosis.  The only difference between Logistic Regression base model and XGBoost is that XGBoost had one more false negative.  It is difficult to tell how significant this is, or if it is at all.  Ideally more data would needed to be collected to compare, but XGBoost is the acceptable model for the threshold given."
   ]
  },
  {
   "cell_type": "markdown",
   "metadata": {},
   "source": [
    "#### Saving the results\n",
    "\n",
    "I would like to do more visualization of the scores collected using Tableau, so I am going to save the imporant information in a way I can use for later."
   ]
  },
  {
   "cell_type": "code",
   "execution_count": 67,
   "metadata": {},
   "outputs": [],
   "source": [
    "#Saving the accuracies, using data from above\n",
    "acc_dic = dict(zip(labels, all_accuracies))\n",
    "accuracies = pd.DataFrame(acc_dic).to_csv(\"accuracies.csv\")"
   ]
  },
  {
   "cell_type": "code",
   "execution_count": 68,
   "metadata": {},
   "outputs": [],
   "source": [
    "#Saving the false negatives from confusion matrixes\n",
    "false_neg_dic = dict(zip(labels, false_negs))\n",
    "false_negatives = pd.DataFrame(acc_dic).to_csv(\"false_negatives.csv\")"
   ]
  },
  {
   "cell_type": "code",
   "execution_count": 69,
   "metadata": {},
   "outputs": [],
   "source": [
    "#Saving the recall percentage\n",
    "recall_dic = dict(zip(labels, recall))\n",
    "recall = pd.DataFrame(recall_dic, index=[0]).to_csv(\"recall.csv\")"
   ]
  },
  {
   "cell_type": "code",
   "execution_count": 70,
   "metadata": {},
   "outputs": [],
   "source": [
    "#Saving the AUC\n",
    "auc_dic = dict(zip(labels, auc_scores))\n",
    "auc = pd.DataFrame(auc_dic).to_csv('auc.csv')"
   ]
  },
  {
   "cell_type": "code",
   "execution_count": 90,
   "metadata": {},
   "outputs": [],
   "source": [
    "#I want the prediction probability for use in tableau, so I will do that\n",
    "\n",
    "#KNN\n",
    "y_pred_proba_knn_f = knn_f.predict_proba(X_test_f)[:, 1]\n",
    "pd.DataFrame(y_pred_proba_knn_f).to_csv('y_pred_proba_knn_f.csv')\n",
    "\n",
    "y_pred_proba_knn_p = knn_p.predict_proba(X_test_p)[:, 1]\n",
    "pd.DataFrame(y_pred_proba_knn_p).to_csv('y_pred_proba_knn_p.csv')\n",
    "\n",
    "#Random Forest\n",
    "y_pred_proba_rf_f = rf_f.predict_proba(X_test_f)[:, 1]\n",
    "pd.DataFrame(y_pred_proba_rf_f).to_csv('y_pred_proba_rf_f.csv')\n",
    "\n",
    "y_pred_proba_rf_p = rf_p.predict_proba(X_test_p)[:, 1]\n",
    "pd.DataFrame(y_pred_proba_rf_p).to_csv('y_pred_proba_rf_p.csv')\n",
    "\n",
    "#XGBoost\n",
    "y_pred_proba_xgb_f = xgb_f.predict_proba(X_test_f)[:, 1]\n",
    "pd.DataFrame(y_pred_proba_xgb_f).to_csv('y_pred_proba_xgb_f.csv')\n",
    "\n",
    "y_pred_proba_xgb_p = xgb_p.predict_proba(X_test_p)[:, 1]\n",
    "pd.DataFrame(y_pred_proba_xgb_p).to_csv('y_pred_proba_xgb_p.csv')"
   ]
  },
  {
   "cell_type": "code",
   "execution_count": 87,
   "metadata": {
    "scrolled": true
   },
   "outputs": [
    {
     "data": {
      "text/html": [
       "<div>\n",
       "<style scoped>\n",
       "    .dataframe tbody tr th:only-of-type {\n",
       "        vertical-align: middle;\n",
       "    }\n",
       "\n",
       "    .dataframe tbody tr th {\n",
       "        vertical-align: top;\n",
       "    }\n",
       "\n",
       "    .dataframe thead th {\n",
       "        text-align: right;\n",
       "    }\n",
       "</style>\n",
       "<table border=\"1\" class=\"dataframe\">\n",
       "  <thead>\n",
       "    <tr style=\"text-align: right;\">\n",
       "      <th></th>\n",
       "      <th>diagnosis_num</th>\n",
       "      <th>ordered_number</th>\n",
       "    </tr>\n",
       "    <tr>\n",
       "      <th>id</th>\n",
       "      <th></th>\n",
       "      <th></th>\n",
       "    </tr>\n",
       "  </thead>\n",
       "  <tbody>\n",
       "    <tr>\n",
       "      <th>87930</th>\n",
       "      <td>0</td>\n",
       "      <td>0</td>\n",
       "    </tr>\n",
       "    <tr>\n",
       "      <th>859575</th>\n",
       "      <td>1</td>\n",
       "      <td>1</td>\n",
       "    </tr>\n",
       "    <tr>\n",
       "      <th>8670</th>\n",
       "      <td>1</td>\n",
       "      <td>2</td>\n",
       "    </tr>\n",
       "    <tr>\n",
       "      <th>907915</th>\n",
       "      <td>0</td>\n",
       "      <td>3</td>\n",
       "    </tr>\n",
       "    <tr>\n",
       "      <th>921385</th>\n",
       "      <td>0</td>\n",
       "      <td>4</td>\n",
       "    </tr>\n",
       "    <tr>\n",
       "      <th>...</th>\n",
       "      <td>...</td>\n",
       "      <td>...</td>\n",
       "    </tr>\n",
       "    <tr>\n",
       "      <th>913102</th>\n",
       "      <td>0</td>\n",
       "      <td>109</td>\n",
       "    </tr>\n",
       "    <tr>\n",
       "      <th>8610404</th>\n",
       "      <td>1</td>\n",
       "      <td>110</td>\n",
       "    </tr>\n",
       "    <tr>\n",
       "      <th>884689</th>\n",
       "      <td>0</td>\n",
       "      <td>111</td>\n",
       "    </tr>\n",
       "    <tr>\n",
       "      <th>883270</th>\n",
       "      <td>0</td>\n",
       "      <td>112</td>\n",
       "    </tr>\n",
       "    <tr>\n",
       "      <th>88995002</th>\n",
       "      <td>1</td>\n",
       "      <td>113</td>\n",
       "    </tr>\n",
       "  </tbody>\n",
       "</table>\n",
       "<p>114 rows × 2 columns</p>\n",
       "</div>"
      ],
      "text/plain": [
       "          diagnosis_num  ordered_number\n",
       "id                                     \n",
       "87930                 0               0\n",
       "859575                1               1\n",
       "8670                  1               2\n",
       "907915                0               3\n",
       "921385                0               4\n",
       "...                 ...             ...\n",
       "913102                0             109\n",
       "8610404               1             110\n",
       "884689                0             111\n",
       "883270                0             112\n",
       "88995002              1             113\n",
       "\n",
       "[114 rows x 2 columns]"
      ]
     },
     "execution_count": 87,
     "metadata": {},
     "output_type": "execute_result"
    }
   ],
   "source": [
    "#In order to match the columns of the test group to the prediction, I have to make matching ordered columns, then I will save them\n",
    "y_test_f['ordered_number'] = range(0, len(y_test_f))\n",
    "y_test_f"
   ]
  },
  {
   "cell_type": "code",
   "execution_count": 92,
   "metadata": {},
   "outputs": [],
   "source": [
    "y_test_f.to_csv('y_test_f_ordered.csv')"
   ]
  },
  {
   "cell_type": "code",
   "execution_count": 88,
   "metadata": {},
   "outputs": [
    {
     "data": {
      "text/html": [
       "<div>\n",
       "<style scoped>\n",
       "    .dataframe tbody tr th:only-of-type {\n",
       "        vertical-align: middle;\n",
       "    }\n",
       "\n",
       "    .dataframe tbody tr th {\n",
       "        vertical-align: top;\n",
       "    }\n",
       "\n",
       "    .dataframe thead th {\n",
       "        text-align: right;\n",
       "    }\n",
       "</style>\n",
       "<table border=\"1\" class=\"dataframe\">\n",
       "  <thead>\n",
       "    <tr style=\"text-align: right;\">\n",
       "      <th></th>\n",
       "      <th>diagnosis_num</th>\n",
       "      <th>ordered_number</th>\n",
       "    </tr>\n",
       "    <tr>\n",
       "      <th>id</th>\n",
       "      <th></th>\n",
       "      <th></th>\n",
       "    </tr>\n",
       "  </thead>\n",
       "  <tbody>\n",
       "    <tr>\n",
       "      <th>9113239</th>\n",
       "      <td>0</td>\n",
       "      <td>0</td>\n",
       "    </tr>\n",
       "    <tr>\n",
       "      <th>925311</th>\n",
       "      <td>0</td>\n",
       "      <td>1</td>\n",
       "    </tr>\n",
       "    <tr>\n",
       "      <th>854253</th>\n",
       "      <td>1</td>\n",
       "      <td>2</td>\n",
       "    </tr>\n",
       "    <tr>\n",
       "      <th>85715</th>\n",
       "      <td>1</td>\n",
       "      <td>3</td>\n",
       "    </tr>\n",
       "    <tr>\n",
       "      <th>869104</th>\n",
       "      <td>1</td>\n",
       "      <td>4</td>\n",
       "    </tr>\n",
       "    <tr>\n",
       "      <th>...</th>\n",
       "      <td>...</td>\n",
       "      <td>...</td>\n",
       "    </tr>\n",
       "    <tr>\n",
       "      <th>869224</th>\n",
       "      <td>0</td>\n",
       "      <td>109</td>\n",
       "    </tr>\n",
       "    <tr>\n",
       "      <th>90401601</th>\n",
       "      <td>0</td>\n",
       "      <td>110</td>\n",
       "    </tr>\n",
       "    <tr>\n",
       "      <th>90944601</th>\n",
       "      <td>0</td>\n",
       "      <td>111</td>\n",
       "    </tr>\n",
       "    <tr>\n",
       "      <th>859711</th>\n",
       "      <td>0</td>\n",
       "      <td>112</td>\n",
       "    </tr>\n",
       "    <tr>\n",
       "      <th>909220</th>\n",
       "      <td>0</td>\n",
       "      <td>113</td>\n",
       "    </tr>\n",
       "  </tbody>\n",
       "</table>\n",
       "<p>114 rows × 2 columns</p>\n",
       "</div>"
      ],
      "text/plain": [
       "          diagnosis_num  ordered_number\n",
       "id                                     \n",
       "9113239               0               0\n",
       "925311                0               1\n",
       "854253                1               2\n",
       "85715                 1               3\n",
       "869104                1               4\n",
       "...                 ...             ...\n",
       "869224                0             109\n",
       "90401601              0             110\n",
       "90944601              0             111\n",
       "859711                0             112\n",
       "909220                0             113\n",
       "\n",
       "[114 rows x 2 columns]"
      ]
     },
     "execution_count": 88,
     "metadata": {},
     "output_type": "execute_result"
    }
   ],
   "source": [
    "y_test_p['ordered_number'] = range(0, len(y_test_p))\n",
    "y_test_p"
   ]
  },
  {
   "cell_type": "code",
   "execution_count": 91,
   "metadata": {},
   "outputs": [],
   "source": [
    "y_test_p.to_csv('y_test_p_ordered.csv')"
   ]
  },
  {
   "cell_type": "code",
   "execution_count": null,
   "metadata": {},
   "outputs": [],
   "source": []
  }
 ],
 "metadata": {
  "kernelspec": {
   "display_name": "Python 3",
   "language": "python",
   "name": "python3"
  },
  "language_info": {
   "codemirror_mode": {
    "name": "ipython",
    "version": 3
   },
   "file_extension": ".py",
   "mimetype": "text/x-python",
   "name": "python",
   "nbconvert_exporter": "python",
   "pygments_lexer": "ipython3",
   "version": "3.8.3"
  }
 },
 "nbformat": 4,
 "nbformat_minor": 4
}
