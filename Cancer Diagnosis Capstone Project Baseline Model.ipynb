{
 "cells": [
  {
   "cell_type": "markdown",
   "metadata": {},
   "source": [
    "## Cancer Diagnosis Capstone Project Baseline Model\n",
    "\n",
    "The purpose of this part of the project is to:\n",
    "1. Prepare and split the data for modeling\n",
    "2. Create a baseline model that can be used to inform the development of more sophisticated models. In other words, once a baseline is built through simple models, the goal then becomes to build better models.\n",
    "\n",
    "The simple model that I am going to use is Logistic Regression.  I have also decided that I want to create two groups for testing.  One group will include all of the data other that area and parameter mean, since they are directly correlated with radius mean.  The other group will simply include the five variables that I kept after removing all of the high correlations.  For a reminder, those five variables are: <br>\n",
    "radius mean<br>\n",
    "texture mean<br>\n",
    "smoothness mean<br>\n",
    "area standard error<br>\n",
    "concavity standard error"
   ]
  },
  {
   "cell_type": "markdown",
   "metadata": {},
   "source": [
    "#### Preprocessing and splitting the data\n",
    "\n",
    "First I need to get the data ready for splitting.  There are no categorical variables, so it should be as simple as picking variables that I want."
   ]
  },
  {
   "cell_type": "code",
   "execution_count": 92,
   "metadata": {},
   "outputs": [],
   "source": [
    "#Import everything that I plan on using during this project\n",
    "import pandas as pd\n",
    "import numpy as np\n",
    "import os\n",
    "import pickle\n",
    "import matplotlib.pyplot as plt\n",
    "import seaborn as sns\n",
    "from sklearn.model_selection import train_test_split\n",
    "\n",
    "#Also import models for machine learning\n",
    "from sklearn.model_selection import train_test_split\n",
    "from sklearn.model_selection import cross_val_score\n",
    "from sklearn.linear_model import LogisticRegression\n",
    "from sklearn.model_selection import GridSearchCV\n",
    "from sklearn.datasets import make_classification\n",
    "from sklearn.metrics import accuracy_score\n",
    "from sklearn.metrics import confusion_matrix\n",
    "from sklearn.metrics import plot_confusion_matrix\n",
    "from sklearn.model_selection import cross_val_score\n",
    "from sklearn.metrics import auc, roc_curve, roc_auc_score\n",
    "from sklearn.model_selection import validation_curve\n",
    "from sklearn.metrics import classification_report\n",
    "\n",
    "#ignore warning messages to ensure clean outputs\n",
    "import warnings\n",
    "warnings.filterwarnings('ignore')"
   ]
  },
  {
   "cell_type": "code",
   "execution_count": 8,
   "metadata": {},
   "outputs": [
    {
     "data": {
      "text/html": [
       "<div>\n",
       "<style scoped>\n",
       "    .dataframe tbody tr th:only-of-type {\n",
       "        vertical-align: middle;\n",
       "    }\n",
       "\n",
       "    .dataframe tbody tr th {\n",
       "        vertical-align: top;\n",
       "    }\n",
       "\n",
       "    .dataframe thead th {\n",
       "        text-align: right;\n",
       "    }\n",
       "</style>\n",
       "<table border=\"1\" class=\"dataframe\">\n",
       "  <thead>\n",
       "    <tr style=\"text-align: right;\">\n",
       "      <th></th>\n",
       "      <th>diagnosis</th>\n",
       "      <th>radius_mean</th>\n",
       "      <th>texture_mean</th>\n",
       "      <th>perimeter_mean</th>\n",
       "      <th>area_mean</th>\n",
       "      <th>smoothness_mean</th>\n",
       "      <th>compactness_mean</th>\n",
       "      <th>concavity_mean</th>\n",
       "      <th>concave points_mean</th>\n",
       "      <th>symmetry_mean</th>\n",
       "      <th>...</th>\n",
       "      <th>texture_worst</th>\n",
       "      <th>perimeter_worst</th>\n",
       "      <th>area_worst</th>\n",
       "      <th>smoothness_worst</th>\n",
       "      <th>compactness_worst</th>\n",
       "      <th>concavity_worst</th>\n",
       "      <th>concave points_worst</th>\n",
       "      <th>symmetry_worst</th>\n",
       "      <th>fractal_dimension_worst</th>\n",
       "      <th>diagnosis_num</th>\n",
       "    </tr>\n",
       "    <tr>\n",
       "      <th>id</th>\n",
       "      <th></th>\n",
       "      <th></th>\n",
       "      <th></th>\n",
       "      <th></th>\n",
       "      <th></th>\n",
       "      <th></th>\n",
       "      <th></th>\n",
       "      <th></th>\n",
       "      <th></th>\n",
       "      <th></th>\n",
       "      <th></th>\n",
       "      <th></th>\n",
       "      <th></th>\n",
       "      <th></th>\n",
       "      <th></th>\n",
       "      <th></th>\n",
       "      <th></th>\n",
       "      <th></th>\n",
       "      <th></th>\n",
       "      <th></th>\n",
       "      <th></th>\n",
       "    </tr>\n",
       "  </thead>\n",
       "  <tbody>\n",
       "    <tr>\n",
       "      <th>842302</th>\n",
       "      <td>M</td>\n",
       "      <td>17.99</td>\n",
       "      <td>10.38</td>\n",
       "      <td>122.80</td>\n",
       "      <td>1001.0</td>\n",
       "      <td>0.11840</td>\n",
       "      <td>0.27760</td>\n",
       "      <td>0.3001</td>\n",
       "      <td>0.14710</td>\n",
       "      <td>0.2419</td>\n",
       "      <td>...</td>\n",
       "      <td>17.33</td>\n",
       "      <td>184.60</td>\n",
       "      <td>2019.0</td>\n",
       "      <td>0.1622</td>\n",
       "      <td>0.6656</td>\n",
       "      <td>0.7119</td>\n",
       "      <td>0.2654</td>\n",
       "      <td>0.4601</td>\n",
       "      <td>0.11890</td>\n",
       "      <td>1</td>\n",
       "    </tr>\n",
       "    <tr>\n",
       "      <th>842517</th>\n",
       "      <td>M</td>\n",
       "      <td>20.57</td>\n",
       "      <td>17.77</td>\n",
       "      <td>132.90</td>\n",
       "      <td>1326.0</td>\n",
       "      <td>0.08474</td>\n",
       "      <td>0.07864</td>\n",
       "      <td>0.0869</td>\n",
       "      <td>0.07017</td>\n",
       "      <td>0.1812</td>\n",
       "      <td>...</td>\n",
       "      <td>23.41</td>\n",
       "      <td>158.80</td>\n",
       "      <td>1956.0</td>\n",
       "      <td>0.1238</td>\n",
       "      <td>0.1866</td>\n",
       "      <td>0.2416</td>\n",
       "      <td>0.1860</td>\n",
       "      <td>0.2750</td>\n",
       "      <td>0.08902</td>\n",
       "      <td>1</td>\n",
       "    </tr>\n",
       "    <tr>\n",
       "      <th>84300903</th>\n",
       "      <td>M</td>\n",
       "      <td>19.69</td>\n",
       "      <td>21.25</td>\n",
       "      <td>130.00</td>\n",
       "      <td>1203.0</td>\n",
       "      <td>0.10960</td>\n",
       "      <td>0.15990</td>\n",
       "      <td>0.1974</td>\n",
       "      <td>0.12790</td>\n",
       "      <td>0.2069</td>\n",
       "      <td>...</td>\n",
       "      <td>25.53</td>\n",
       "      <td>152.50</td>\n",
       "      <td>1709.0</td>\n",
       "      <td>0.1444</td>\n",
       "      <td>0.4245</td>\n",
       "      <td>0.4504</td>\n",
       "      <td>0.2430</td>\n",
       "      <td>0.3613</td>\n",
       "      <td>0.08758</td>\n",
       "      <td>1</td>\n",
       "    </tr>\n",
       "    <tr>\n",
       "      <th>84348301</th>\n",
       "      <td>M</td>\n",
       "      <td>11.42</td>\n",
       "      <td>20.38</td>\n",
       "      <td>77.58</td>\n",
       "      <td>386.1</td>\n",
       "      <td>0.14250</td>\n",
       "      <td>0.28390</td>\n",
       "      <td>0.2414</td>\n",
       "      <td>0.10520</td>\n",
       "      <td>0.2597</td>\n",
       "      <td>...</td>\n",
       "      <td>26.50</td>\n",
       "      <td>98.87</td>\n",
       "      <td>567.7</td>\n",
       "      <td>0.2098</td>\n",
       "      <td>0.8663</td>\n",
       "      <td>0.6869</td>\n",
       "      <td>0.2575</td>\n",
       "      <td>0.6638</td>\n",
       "      <td>0.17300</td>\n",
       "      <td>1</td>\n",
       "    </tr>\n",
       "    <tr>\n",
       "      <th>84358402</th>\n",
       "      <td>M</td>\n",
       "      <td>20.29</td>\n",
       "      <td>14.34</td>\n",
       "      <td>135.10</td>\n",
       "      <td>1297.0</td>\n",
       "      <td>0.10030</td>\n",
       "      <td>0.13280</td>\n",
       "      <td>0.1980</td>\n",
       "      <td>0.10430</td>\n",
       "      <td>0.1809</td>\n",
       "      <td>...</td>\n",
       "      <td>16.67</td>\n",
       "      <td>152.20</td>\n",
       "      <td>1575.0</td>\n",
       "      <td>0.1374</td>\n",
       "      <td>0.2050</td>\n",
       "      <td>0.4000</td>\n",
       "      <td>0.1625</td>\n",
       "      <td>0.2364</td>\n",
       "      <td>0.07678</td>\n",
       "      <td>1</td>\n",
       "    </tr>\n",
       "  </tbody>\n",
       "</table>\n",
       "<p>5 rows × 32 columns</p>\n",
       "</div>"
      ],
      "text/plain": [
       "         diagnosis  radius_mean  texture_mean  perimeter_mean  area_mean  \\\n",
       "id                                                                         \n",
       "842302           M        17.99         10.38          122.80     1001.0   \n",
       "842517           M        20.57         17.77          132.90     1326.0   \n",
       "84300903         M        19.69         21.25          130.00     1203.0   \n",
       "84348301         M        11.42         20.38           77.58      386.1   \n",
       "84358402         M        20.29         14.34          135.10     1297.0   \n",
       "\n",
       "          smoothness_mean  compactness_mean  concavity_mean  \\\n",
       "id                                                            \n",
       "842302            0.11840           0.27760          0.3001   \n",
       "842517            0.08474           0.07864          0.0869   \n",
       "84300903          0.10960           0.15990          0.1974   \n",
       "84348301          0.14250           0.28390          0.2414   \n",
       "84358402          0.10030           0.13280          0.1980   \n",
       "\n",
       "          concave points_mean  symmetry_mean  ...  texture_worst  \\\n",
       "id                                            ...                  \n",
       "842302                0.14710         0.2419  ...          17.33   \n",
       "842517                0.07017         0.1812  ...          23.41   \n",
       "84300903              0.12790         0.2069  ...          25.53   \n",
       "84348301              0.10520         0.2597  ...          26.50   \n",
       "84358402              0.10430         0.1809  ...          16.67   \n",
       "\n",
       "          perimeter_worst  area_worst  smoothness_worst  compactness_worst  \\\n",
       "id                                                                           \n",
       "842302             184.60      2019.0            0.1622             0.6656   \n",
       "842517             158.80      1956.0            0.1238             0.1866   \n",
       "84300903           152.50      1709.0            0.1444             0.4245   \n",
       "84348301            98.87       567.7            0.2098             0.8663   \n",
       "84358402           152.20      1575.0            0.1374             0.2050   \n",
       "\n",
       "          concavity_worst  concave points_worst  symmetry_worst  \\\n",
       "id                                                                \n",
       "842302             0.7119                0.2654          0.4601   \n",
       "842517             0.2416                0.1860          0.2750   \n",
       "84300903           0.4504                0.2430          0.3613   \n",
       "84348301           0.6869                0.2575          0.6638   \n",
       "84358402           0.4000                0.1625          0.2364   \n",
       "\n",
       "          fractal_dimension_worst  diagnosis_num  \n",
       "id                                                \n",
       "842302                    0.11890              1  \n",
       "842517                    0.08902              1  \n",
       "84300903                  0.08758              1  \n",
       "84348301                  0.17300              1  \n",
       "84358402                  0.07678              1  \n",
       "\n",
       "[5 rows x 32 columns]"
      ]
     },
     "execution_count": 8,
     "metadata": {},
     "output_type": "execute_result"
    }
   ],
   "source": [
    "#Importing data.  I am going to be doing the same procedure with both datasets (the full one and the one with the five variables listed above)\n",
    "cancer_full = pd.read_csv('cancer.csv', index_col=0)\n",
    "cancer_part = pd.read_csv('cancer_model.csv', index_col=0)\n",
    "\n",
    "cancer_full.head()"
   ]
  },
  {
   "cell_type": "code",
   "execution_count": 9,
   "metadata": {},
   "outputs": [
    {
     "data": {
      "text/html": [
       "<div>\n",
       "<style scoped>\n",
       "    .dataframe tbody tr th:only-of-type {\n",
       "        vertical-align: middle;\n",
       "    }\n",
       "\n",
       "    .dataframe tbody tr th {\n",
       "        vertical-align: top;\n",
       "    }\n",
       "\n",
       "    .dataframe thead th {\n",
       "        text-align: right;\n",
       "    }\n",
       "</style>\n",
       "<table border=\"1\" class=\"dataframe\">\n",
       "  <thead>\n",
       "    <tr style=\"text-align: right;\">\n",
       "      <th></th>\n",
       "      <th>diagnosis</th>\n",
       "      <th>diagnosis_num</th>\n",
       "      <th>radius_mean</th>\n",
       "      <th>texture_mean</th>\n",
       "      <th>smoothness_mean</th>\n",
       "      <th>area_se</th>\n",
       "      <th>concavity_se</th>\n",
       "    </tr>\n",
       "    <tr>\n",
       "      <th>id</th>\n",
       "      <th></th>\n",
       "      <th></th>\n",
       "      <th></th>\n",
       "      <th></th>\n",
       "      <th></th>\n",
       "      <th></th>\n",
       "      <th></th>\n",
       "    </tr>\n",
       "  </thead>\n",
       "  <tbody>\n",
       "    <tr>\n",
       "      <th>842302</th>\n",
       "      <td>M</td>\n",
       "      <td>1</td>\n",
       "      <td>17.99</td>\n",
       "      <td>10.38</td>\n",
       "      <td>0.11840</td>\n",
       "      <td>153.40</td>\n",
       "      <td>0.05373</td>\n",
       "    </tr>\n",
       "    <tr>\n",
       "      <th>842517</th>\n",
       "      <td>M</td>\n",
       "      <td>1</td>\n",
       "      <td>20.57</td>\n",
       "      <td>17.77</td>\n",
       "      <td>0.08474</td>\n",
       "      <td>74.08</td>\n",
       "      <td>0.01860</td>\n",
       "    </tr>\n",
       "    <tr>\n",
       "      <th>84300903</th>\n",
       "      <td>M</td>\n",
       "      <td>1</td>\n",
       "      <td>19.69</td>\n",
       "      <td>21.25</td>\n",
       "      <td>0.10960</td>\n",
       "      <td>94.03</td>\n",
       "      <td>0.03832</td>\n",
       "    </tr>\n",
       "    <tr>\n",
       "      <th>84348301</th>\n",
       "      <td>M</td>\n",
       "      <td>1</td>\n",
       "      <td>11.42</td>\n",
       "      <td>20.38</td>\n",
       "      <td>0.14250</td>\n",
       "      <td>27.23</td>\n",
       "      <td>0.05661</td>\n",
       "    </tr>\n",
       "    <tr>\n",
       "      <th>84358402</th>\n",
       "      <td>M</td>\n",
       "      <td>1</td>\n",
       "      <td>20.29</td>\n",
       "      <td>14.34</td>\n",
       "      <td>0.10030</td>\n",
       "      <td>94.44</td>\n",
       "      <td>0.05688</td>\n",
       "    </tr>\n",
       "  </tbody>\n",
       "</table>\n",
       "</div>"
      ],
      "text/plain": [
       "         diagnosis  diagnosis_num  radius_mean  texture_mean  smoothness_mean  \\\n",
       "id                                                                              \n",
       "842302           M              1        17.99         10.38          0.11840   \n",
       "842517           M              1        20.57         17.77          0.08474   \n",
       "84300903         M              1        19.69         21.25          0.10960   \n",
       "84348301         M              1        11.42         20.38          0.14250   \n",
       "84358402         M              1        20.29         14.34          0.10030   \n",
       "\n",
       "          area_se  concavity_se  \n",
       "id                               \n",
       "842302     153.40       0.05373  \n",
       "842517      74.08       0.01860  \n",
       "84300903    94.03       0.03832  \n",
       "84348301    27.23       0.05661  \n",
       "84358402    94.44       0.05688  "
      ]
     },
     "execution_count": 9,
     "metadata": {},
     "output_type": "execute_result"
    }
   ],
   "source": [
    "cancer_part.head()"
   ]
  },
  {
   "cell_type": "markdown",
   "metadata": {},
   "source": [
    "I have kept the diagnosis in as a reference, but now I will need to remove it for modeling.  A value of 1 means the tumor was malignant, and a value of 0 means the tumor was benign."
   ]
  },
  {
   "cell_type": "code",
   "execution_count": 14,
   "metadata": {},
   "outputs": [
    {
     "data": {
      "text/plain": [
       "((455, 28), (114, 28))"
      ]
     },
     "execution_count": 14,
     "metadata": {},
     "output_type": "execute_result"
    }
   ],
   "source": [
    "#First to prepare the full cancer data.  I am going to remove perimiter and area mean and the diagnosis.\n",
    "X_train_f, X_test_f, y_train_f, y_test_f = train_test_split(cancer_full.drop(columns=['diagnosis','area_mean','perimeter_mean','diagnosis_num']),cancer_full.diagnosis_num,test_size=0.2, random_state=42)\n",
    "X_train_f.shape, X_test_f.shape"
   ]
  },
  {
   "cell_type": "code",
   "execution_count": 15,
   "metadata": {},
   "outputs": [
    {
     "data": {
      "text/plain": [
       "((455,), (114,))"
      ]
     },
     "execution_count": 15,
     "metadata": {},
     "output_type": "execute_result"
    }
   ],
   "source": [
    "y_train_f.shape, y_test_f.shape"
   ]
  },
  {
   "cell_type": "code",
   "execution_count": 16,
   "metadata": {},
   "outputs": [
    {
     "data": {
      "text/plain": [
       "((455, 5), (114, 5))"
      ]
     },
     "execution_count": 16,
     "metadata": {},
     "output_type": "execute_result"
    }
   ],
   "source": [
    "#Now to prepare the cancer data with the high correlation variables filtered out.\n",
    "X_train_p, X_test_p, y_train_p, y_test_p = train_test_split(cancer_part.drop(columns=['diagnosis','diagnosis_num']),cancer_full.diagnosis_num,test_size=0.2, random_state=43)\n",
    "X_train_p.shape, X_test_p.shape"
   ]
  },
  {
   "cell_type": "code",
   "execution_count": 17,
   "metadata": {},
   "outputs": [
    {
     "data": {
      "text/plain": [
       "((455,), (114,))"
      ]
     },
     "execution_count": 17,
     "metadata": {},
     "output_type": "execute_result"
    }
   ],
   "source": [
    "y_train_p.shape, y_test_p.shape"
   ]
  },
  {
   "cell_type": "markdown",
   "metadata": {},
   "source": [
    "#### Modeling the Data\n",
    "\n",
    "Now it is time to do a baseline model of the data using Logistic Regression.  I am going to perform Logistic Regression with no hyperparameters set, just using the default hyperparameters, and then I will perform Logistic Regression after running Gridsearch to find more ideal hyperparameters.  I am also going to run this on both models.  After each model run, I will score the results."
   ]
  },
  {
   "cell_type": "code",
   "execution_count": 52,
   "metadata": {},
   "outputs": [
    {
     "data": {
      "text/plain": [
       "0.956140350877193"
      ]
     },
     "execution_count": 52,
     "metadata": {},
     "output_type": "execute_result"
    }
   ],
   "source": [
    "#Logistic Regression on full dataset\n",
    "lr = LogisticRegression()\n",
    "lr_full = lr.fit(X_train_f,y_train_f)\n",
    "y_pred_lr_full = lr_full.predict(X_test_f)\n",
    "accuracy_score_lr_full = accuracy_score(y_test_f,y_pred_lr_full)\n",
    "accuracy_score_lr_full"
   ]
  },
  {
   "cell_type": "code",
   "execution_count": 86,
   "metadata": {},
   "outputs": [
    {
     "data": {
      "image/png": "[encoded data removed]",
      "text/plain": [
       "<Figure size 432x288 with 2 Axes>"
      ]
     },
     "metadata": {
      "needs_background": "light"
     },
     "output_type": "display_data"
    }
   ],
   "source": [
    "#show the confusion matrix\n",
    "lr_full_confusion_matrix = plot_confusion_matrix(lr_full, X_test_f, y_test_f)"
   ]
  },
  {
   "cell_type": "markdown",
   "metadata": {},
   "source": [
    "At first glace, this seems impressively accurate.  Only 5 out of 114 (4.38%) were misclassified.  The ROC curve is worth looking at as well."
   ]
  },
  {
   "cell_type": "code",
   "execution_count": 31,
   "metadata": {},
   "outputs": [],
   "source": [
    "#Create a function for plotting ROC curve that can be used multiple times.\n",
    "def plot_roc_curve(y_test, y_pred_prob, title, label=None):\n",
    "    false_positive_rate, true_positive_rate, thresholds = roc_curve(y_test, y_pred_prob)\n",
    "    plt.plot(false_positive_rate, true_positive_rate, linewidth=2, label=label)\n",
    "    plt.plot([0, 1], [0, 1], 'r', linewidth=4)\n",
    "    plt.axis([0, 1, 0, 1])\n",
    "    plt.xlabel('False Positive Rate (FPR)', fontsize=15)\n",
    "    plt.ylabel('True Positive Rate (TPR)', fontsize=15)\n",
    "    plt.title(title,fontsize=15)\n",
    "    plt.show()"
   ]
  },
  {
   "cell_type": "code",
   "execution_count": 32,
   "metadata": {},
   "outputs": [
    {
     "data": {
      "image/png": "[encoded data removed]",
      "text/plain": [
       "<Figure size 432x288 with 1 Axes>"
      ]
     },
     "metadata": {
      "needs_background": "light"
     },
     "output_type": "display_data"
    }
   ],
   "source": [
    "#plot the ROC curve\n",
    "y_pred_prob_f = lr.predict_proba(X_test_f)[:,1]\n",
    "plot_roc_curve(y_test_f,y_pred_prob_f,'ROC Curve LogReg Full Data')"
   ]
  },
  {
   "cell_type": "code",
   "execution_count": 89,
   "metadata": {},
   "outputs": [
    {
     "name": "stdout",
     "output_type": "stream",
     "text": [
      "AUC:  0.99737962659679\n"
     ]
    }
   ],
   "source": [
    "#Calculate the area under the curve.\n",
    "roc_score_f = roc_auc_score(y_test_f, y_pred_prob_f)\n",
    "print(\"AUC: \", roc_score_f)"
   ]
  },
  {
   "cell_type": "code",
   "execution_count": 97,
   "metadata": {},
   "outputs": [
    {
     "name": "stdout",
     "output_type": "stream",
     "text": [
      "              precision    recall  f1-score   support\n",
      "\n",
      "           0       0.95      0.99      0.97        71\n",
      "           1       0.97      0.91      0.94        43\n",
      "\n",
      "    accuracy                           0.96       114\n",
      "   macro avg       0.96      0.95      0.95       114\n",
      "weighted avg       0.96      0.96      0.96       114\n",
      "\n"
     ]
    }
   ],
   "source": [
    "#Look at the classification report\n",
    "class_rep_f = classification_report(y_test_f, y_pred_lr_full)\n",
    "print(class_rep_f)\n"
   ]
  },
  {
   "cell_type": "markdown",
   "metadata": {},
   "source": [
    "That ROC curve and the AUC are almost looks perfect. I would like to see a higher recall though.  Let's see if there is a difference with the reduced variables."
   ]
  },
  {
   "cell_type": "code",
   "execution_count": 33,
   "metadata": {},
   "outputs": [
    {
     "data": {
      "text/plain": [
       "0.9298245614035088"
      ]
     },
     "execution_count": 33,
     "metadata": {},
     "output_type": "execute_result"
    }
   ],
   "source": [
    "#Logistic Regression on reduced dataset\n",
    "lr_p = LogisticRegression()\n",
    "lr_part = lr_p.fit(X_train_p,y_train_p)\n",
    "y_pred_lr_part = lr_part.predict(X_test_p)\n",
    "accuracy_score_lr_part = accuracy_score(y_test_p,y_pred_lr_part)\n",
    "accuracy_score_lr_part"
   ]
  },
  {
   "cell_type": "code",
   "execution_count": 90,
   "metadata": {},
   "outputs": [
    {
     "data": {
      "image/png": "[encoded data removed]",
      "text/plain": [
       "<Figure size 432x288 with 2 Axes>"
      ]
     },
     "metadata": {
      "needs_background": "light"
     },
     "output_type": "display_data"
    }
   ],
   "source": [
    "lr_part_confusion_matrix = plot_confusion_matrix(lr_part, X_test_p, y_test_p)"
   ]
  },
  {
   "cell_type": "code",
   "execution_count": 35,
   "metadata": {},
   "outputs": [
    {
     "data": {
      "image/png": "[encoded data removed]",
      "text/plain": [
       "<Figure size 432x288 with 1 Axes>"
      ]
     },
     "metadata": {
      "needs_background": "light"
     },
     "output_type": "display_data"
    }
   ],
   "source": [
    "#plot ROC Curve\n",
    "y_pred_prob_p = lr_p.predict_proba(X_test_p)[:,1]\n",
    "plot_roc_curve(y_test_p,y_pred_prob_p,'ROC Curve LogReg Reduced Data')"
   ]
  },
  {
   "cell_type": "code",
   "execution_count": 91,
   "metadata": {
    "scrolled": true
   },
   "outputs": [
    {
     "name": "stdout",
     "output_type": "stream",
     "text": [
      "AUC: 0.9764102564102564\n"
     ]
    }
   ],
   "source": [
    "#Calculate the area under the curve.\n",
    "roc_score_p = roc_auc_score(y_test_p, y_pred_prob_p)\n",
    "print(\"AUC: {}\".format(roc_score_p))"
   ]
  },
  {
   "cell_type": "code",
   "execution_count": 98,
   "metadata": {},
   "outputs": [
    {
     "name": "stdout",
     "output_type": "stream",
     "text": [
      "              precision    recall  f1-score   support\n",
      "\n",
      "           0       0.96      0.93      0.95        75\n",
      "           1       0.88      0.92      0.90        39\n",
      "\n",
      "    accuracy                           0.93       114\n",
      "   macro avg       0.92      0.93      0.92       114\n",
      "weighted avg       0.93      0.93      0.93       114\n",
      "\n"
     ]
    }
   ],
   "source": [
    "#Look at the classification report\n",
    "class_rep_p = classification_report(y_test_p, y_pred_lr_part)\n",
    "print(class_rep_p)"
   ]
  },
  {
   "cell_type": "markdown",
   "metadata": {},
   "source": [
    "8 out of 114 (7%) were misclassfied.  While it is slightly worse than the full data, and the ROC curve isn't as close to perfect, I would not consider the difference significant.  I do notice that the reduced model incorrectly predicted a positive diagnosis when the patient was negative more often than the full model, but the reduced model incorrectly predicted a negative diagnosis when the patient was positive less often.  It is much more important that false negatives be reduced than false positives.  Also the recall on a positive diagnosis for the full dataset and partial dataset was 91% and 92%, respectively.  This is a percentage of the actual positives that were diagnosed as positive, which is also very important.  The partial dataset was more favorable in that situation."
   ]
  },
  {
   "cell_type": "markdown",
   "metadata": {},
   "source": [
    "#### Finding the best Logistic Regression Model\n",
    "\n",
    "While these models had an impressive accuracy, I want to see if I can improve on that.  I will use GridSearchCV to make a wider variety of penalties, l1, l2, and elastic net, and I will also change the strength of the penalty. The default was l2 and a penalty of one."
   ]
  },
  {
   "cell_type": "code",
   "execution_count": 48,
   "metadata": {},
   "outputs": [
    {
     "data": {
      "text/plain": [
       "GridSearchCV(cv=5, estimator=LogisticRegression(), n_jobs=-1,\n",
       "             param_grid={'C': [0.001, 0.01, 0.1, 1, 10, 100],\n",
       "                         'penalty': ['l1', 'l2', 'elasticnet']})"
      ]
     },
     "execution_count": 48,
     "metadata": {},
     "output_type": "execute_result"
    }
   ],
   "source": [
    "#Gridsearch on full dataset\n",
    "lr_gs = LogisticRegression()\n",
    "param  = {'penalty' : ['l1', 'l2', 'elasticnet'], 'C' : [0.001,0.01,0.1,1,10,100]}\n",
    "gs_f = GridSearchCV(lr_gs, param, cv=5, n_jobs=-1)\n",
    "gs_f.fit(X_train_f,y_train_f)"
   ]
  },
  {
   "cell_type": "code",
   "execution_count": 49,
   "metadata": {},
   "outputs": [
    {
     "data": {
      "text/plain": [
       "{'C': 10, 'penalty': 'l2'}"
      ]
     },
     "execution_count": 49,
     "metadata": {},
     "output_type": "execute_result"
    }
   ],
   "source": [
    "gs_f.best_params_"
   ]
  },
  {
   "cell_type": "markdown",
   "metadata": {},
   "source": [
    "The penalty was the same, but this a penalty of 10 seems to be more effective.  Lets run it and chart the results to see the difference."
   ]
  },
  {
   "cell_type": "code",
   "execution_count": 53,
   "metadata": {},
   "outputs": [
    {
     "data": {
      "text/plain": [
       "0.956140350877193"
      ]
     },
     "execution_count": 53,
     "metadata": {},
     "output_type": "execute_result"
    }
   ],
   "source": [
    "lr_gs = LogisticRegression()\n",
    "lr_gs_full = lr_gs.fit(X_train_f,y_train_f)\n",
    "y_pred_lr_gs_full = lr_gs_full.predict(X_test_f)\n",
    "accuracy_score_lr_gs_full = accuracy_score(y_test_f,y_pred_lr_gs_full)\n",
    "accuracy_score_lr_gs_full"
   ]
  },
  {
   "cell_type": "markdown",
   "metadata": {},
   "source": [
    "Exact same results, so the penalty level did not make a difference.  The default values are the most useful.  Is it the same for the reduced model?"
   ]
  },
  {
   "cell_type": "code",
   "execution_count": 57,
   "metadata": {},
   "outputs": [
    {
     "data": {
      "text/plain": [
       "GridSearchCV(cv=5, estimator=LogisticRegression(), n_jobs=-1,\n",
       "             param_grid={'C': [0.001, 0.01, 0.1, 1, 10, 100],\n",
       "                         'penalty': ['l1', 'l2', 'elasticnet']})"
      ]
     },
     "execution_count": 57,
     "metadata": {},
     "output_type": "execute_result"
    }
   ],
   "source": [
    "#Gridsearch on full dataset\n",
    "lr_gs_p = LogisticRegression()\n",
    "gs_f_p = GridSearchCV(lr_gs_p, param, cv=5, n_jobs=-1)\n",
    "gs_f_p.fit(X_train_p,y_train_p)"
   ]
  },
  {
   "cell_type": "code",
   "execution_count": 58,
   "metadata": {},
   "outputs": [
    {
     "data": {
      "text/plain": [
       "{'C': 100, 'penalty': 'l2'}"
      ]
     },
     "execution_count": 58,
     "metadata": {},
     "output_type": "execute_result"
    }
   ],
   "source": [
    "gs_f_p.best_params_"
   ]
  },
  {
   "cell_type": "code",
   "execution_count": 59,
   "metadata": {},
   "outputs": [
    {
     "data": {
      "text/plain": [
       "0.956140350877193"
      ]
     },
     "execution_count": 59,
     "metadata": {},
     "output_type": "execute_result"
    }
   ],
   "source": [
    "lr_gs_p = LogisticRegression()\n",
    "lr_gs_part = lr_gs_p.fit(X_train_f,y_train_f)\n",
    "y_pred_lr_gs_p = lr_gs_part.predict(X_test_f)\n",
    "accuracy_score_lr_gs_part = accuracy_score(y_test_f,y_pred_lr_gs_p)\n",
    "accuracy_score_lr_gs_part"
   ]
  },
  {
   "cell_type": "markdown",
   "metadata": {},
   "source": [
    "Same results, so the default was the best, and will be the baseline model that will be used for this project.  I am curious about the feature importances in the partial and full models and how they are different."
   ]
  },
  {
   "cell_type": "code",
   "execution_count": 78,
   "metadata": {
    "scrolled": true
   },
   "outputs": [
    {
     "name": "stdout",
     "output_type": "stream",
     "text": [
      "Feature: 0, Score: -1.31499\n",
      "Feature: 1, Score: -0.12985\n",
      "Feature: 2, Score: 0.14836\n",
      "Feature: 3, Score: 0.46642\n",
      "Feature: 4, Score: 0.72211\n",
      "Feature: 5, Score: 0.36517\n",
      "Feature: 6, Score: 0.22164\n",
      "Feature: 7, Score: 0.03459\n",
      "Feature: 8, Score: 0.02970\n",
      "Feature: 9, Score: -1.29699\n",
      "Feature: 10, Score: 0.27637\n",
      "Feature: 11, Score: 0.07599\n",
      "Feature: 12, Score: 0.01787\n",
      "Feature: 13, Score: 0.02363\n",
      "Feature: 14, Score: 0.07918\n",
      "Feature: 15, Score: 0.04393\n",
      "Feature: 16, Score: 0.04845\n",
      "Feature: 17, Score: -0.00271\n",
      "Feature: 18, Score: -1.39063\n",
      "Feature: 19, Score: 0.38371\n",
      "Feature: 20, Score: 0.07794\n",
      "Feature: 21, Score: 0.02783\n",
      "Feature: 22, Score: 0.26541\n",
      "Feature: 23, Score: 1.30484\n",
      "Feature: 24, Score: 1.75322\n",
      "Feature: 25, Score: 0.64083\n",
      "Feature: 26, Score: 0.75058\n",
      "Feature: 27, Score: 0.12505\n"
     ]
    }
   ],
   "source": [
    "#Feature importance for full model\n",
    "feat_importances_full = lr_full.coef_[0]\n",
    "for i,v in enumerate(feat_importances_full):\n",
    "    print('Feature: %0d, Score: %.5f' % (i,v))"
   ]
  },
  {
   "cell_type": "code",
   "execution_count": 79,
   "metadata": {},
   "outputs": [
    {
     "data": {
      "text/plain": [
       "Text(0.5, 0, 'Relative Feature Importance Full')"
      ]
     },
     "execution_count": 79,
     "metadata": {},
     "output_type": "execute_result"
    },
    {
     "data": {
      "image/png": "[encoded data removed]",
      "text/plain": [
       "<Figure size 432x288 with 1 Axes>"
      ]
     },
     "metadata": {
      "needs_background": "light"
     },
     "output_type": "display_data"
    }
   ],
   "source": [
    "feature_importance = abs(lr_full.coef_[0])\n",
    "feature_importance = 100.0 * (feature_importance / feature_importance.max())\n",
    "sorted_idx = np.argsort(feature_importance)\n",
    "pos = np.arange(sorted_idx.shape[0]) + .5\n",
    "\n",
    "featfig = plt.figure()\n",
    "featax = featfig.add_subplot(1, 1, 1)\n",
    "featax.barh(pos, feature_importance[sorted_idx], align='center')\n",
    "featax.set_yticks(pos)\n",
    "featax.set_yticklabels(np.array(X_train_f.columns)[sorted_idx], fontsize=8)\n",
    "featax.set_xlabel('Relative Feature Importance Full')"
   ]
  },
  {
   "cell_type": "code",
   "execution_count": 77,
   "metadata": {},
   "outputs": [
    {
     "name": "stdout",
     "output_type": "stream",
     "text": [
      "Feature: 0, Score: 0.68973\n",
      "Feature: 1, Score: 0.21248\n",
      "Feature: 2, Score: 0.60413\n",
      "Feature: 3, Score: 0.06784\n",
      "Feature: 4, Score: 0.35457\n"
     ]
    }
   ],
   "source": [
    "#Feature Importance for Reduced Model\n",
    "feat_importances_p = lr_part.coef_[0]\n",
    "for i,v in enumerate(feat_importances_p):\n",
    "    print('Feature: %0d, Score: %.5f' % (i,v))"
   ]
  },
  {
   "cell_type": "code",
   "execution_count": 83,
   "metadata": {},
   "outputs": [
    {
     "data": {
      "text/plain": [
       "Text(0.5, 0, 'Relative Feature Importance')"
      ]
     },
     "execution_count": 83,
     "metadata": {},
     "output_type": "execute_result"
    },
    {
     "data": {
      "image/png": "[encoded data removed]",
      "text/plain": [
       "<Figure size 432x288 with 1 Axes>"
      ]
     },
     "metadata": {
      "needs_background": "light"
     },
     "output_type": "display_data"
    }
   ],
   "source": [
    "\n",
    "feature_importance = abs(lr_part.coef_[0])\n",
    "feature_importance = 100.0 * (feature_importance / feature_importance.max())\n",
    "sorted_idx = np.argsort(feature_importance)\n",
    "pos = np.arange(sorted_idx.shape[0]) + .5\n",
    "\n",
    "featfig = plt.figure()\n",
    "featax = featfig.add_subplot(1, 1, 1)\n",
    "featax.barh(pos, feature_importance[sorted_idx], align='center')\n",
    "featax.set_yticks(pos)\n",
    "featax.set_yticklabels(np.array(X_train_p.columns)[sorted_idx], fontsize=8)\n",
    "featax.set_xlabel('Relative Feature Importance')"
   ]
  },
  {
   "cell_type": "markdown",
   "metadata": {},
   "source": [
    "It will be interesting to compare the feature importances here with future models that I will use and compare with this baseline.  This concludes the baseline modeling.  Now it's time to state the extended modeling plan."
   ]
  },
  {
   "cell_type": "markdown",
   "metadata": {},
   "source": [
    "## Extended Modeling Plan\n",
    "\n",
    "#### Context: \n",
    "I am building a model to predict if a breast cancer tumor is benign or malignant based off of properties of the nucleus of the cancer cells.  The current data set has 357 benign and 212 malignant samples.\n",
    "\n",
    "#### Baseline Results:\n",
    "Logistic Regression has been used in two different sets of data, using the default hyperparameters:\n",
    "1. The full dataset consisted of 28 determining variables and was split into a training set of 455 samples and a test (holdout) set of 144 samples.\n",
    "2. The partial dataset consisted of 5 determining variables and was split into a training set of 455 samples and a test (holdout) set of 144 samples.\n",
    "\n",
    "**Obtained results are:**\n",
    "1. For the full dataset<br>\n",
    "a. Accuracy of 95.61% <br>\n",
    "b. 4 out of 114 (3.5%) false negatives <br>\n",
    "c. A recall (when positive diagnoses are collectly predicted) of 91% <br>\n",
    "d. AUC of 99.74%\n",
    "\n",
    "2. For the partial dataset <br>\n",
    "a. Accuracy of 92.98% <br>\n",
    "b. 3 out of 114 (2.6%) false negatives <br>\n",
    "c. A recall of 92% <br>\n",
    "d. AUC of 97.64%\n",
    "\n",
    "I would consider this good results in related to the business model since accurate diagnosis can be considered life altering in this situation.  The most important being a highly accurate recall and smallest amount of false negatives because all positives want to be identified, so while this is good, it is something that would ideally be improved.<br>\n",
    "While the dataset has a good amount of samples, more data would be preferred to improve the modeling.  The data is balanced with positives and negatives.\n",
    "\n",
    "#### Targeted Metrics\n",
    "1. Accuracy of at least 95% <br>\n",
    "2. Less than 2.5% false negatives <br>\n",
    "3. A recall of at least 95% <br>\n",
    "4. AUC of at least 99%\n",
    "\n",
    "#### Options\n",
    "**Method:** K-Nearest Neighbors (KNN) <br>\n",
    "**Variations:** Modeling Parameters: <br>\n",
    "Number of Neighbors: Range from 1-10 <br>\n",
    "P (Power parameter for the Minkowski metric): 1(Manhattan Distance), 2(Euclidean Distance)\n",
    "Weights: Uniform or distance\n",
    "\n",
    "**Method:** Support Vector Classification <br>\n",
    "**Variations:** Modeling Parameters: <br>\n",
    "Kernels: Linear, rbf, poly <br>\n",
    "Gammas: 0.1, 1, 10, 100 <br>\n",
    "Cs: 0.1, 1, 10, 100\n",
    "\n",
    "**Method:** XGBoost Classification <br>\n",
    "**Variations:** Modeling Parameters: <br>\n",
    "Learning rate (eta) : 0.01, 0.1, 1 <br>\n",
    "Max depth: 2, 5, 10 <br>\n",
    "Number of Estimators: 2, 5, 10 \n",
    "\n",
    "The results of all the modeling will be further visualized with Tableau to compare results."
   ]
  },
  {
   "cell_type": "markdown",
   "metadata": {},
   "source": [
    "#### Saving the data\n",
    "The splits will be saved to be used in the next stage of modeling.  I am also going to save all of the modeling results for potential use for visualization in Tableau."
   ]
  },
  {
   "cell_type": "code",
   "execution_count": 99,
   "metadata": {},
   "outputs": [],
   "source": [
    "#Save the partial and full split data\n",
    "X_train_f.to_csv('X_train_f.csv')\n",
    "X_test_f.to_csv('X_test_f.csv')\n",
    "y_train_f.to_csv('y_train_f.csv')\n",
    "y_test_f.to_csv('y_test_f.csv')\n",
    "\n",
    "X_train_p.to_csv('X_train_p.csv')\n",
    "X_test_p.to_csv('X_test_p.csv')\n",
    "y_train_p.to_csv('y_train_p.csv')\n",
    "y_test_p.to_csv('y_test_p.csv')"
   ]
  },
  {
   "cell_type": "code",
   "execution_count": 116,
   "metadata": {},
   "outputs": [],
   "source": [
    "#Save some of the results to be visualized in Tableau.  First the accuracy and ROC score\n",
    "lr_full = {'accuracy_score_lr_full':accuracy_score_lr_full,'roc_score_f': roc_score_f}\n",
    "lr_full_scores = pd.DataFrame(lr_full,index=[0]).to_csv('lr_full_scores.csv')\n",
    "\n",
    "lr_part = {'accuracy_score_lr_part':accuracy_score_lr_part,'roc_score_p': roc_score_p}\n",
    "lr_part_scores = pd.DataFrame(lr_part,index=[0]).to_csv('lr_part_scores.csv')"
   ]
  },
  {
   "cell_type": "code",
   "execution_count": 113,
   "metadata": {},
   "outputs": [],
   "source": [
    "#Convert the classification report\n",
    "class_rep_f = classification_report(y_test_f, y_pred_lr_full, output_dict=True)\n",
    "class_rep_f = pd.DataFrame(class_rep_f).transpose().to_csv('class_rep_f.csv')\n",
    "\n",
    "class_rep_p = classification_report(y_test_p, y_pred_lr_part, output_dict=True)\n",
    "class_rep_p = pd.DataFrame(class_rep_p).transpose().to_csv('class_rep_p.csv')"
   ]
  },
  {
   "cell_type": "code",
   "execution_count": 117,
   "metadata": {},
   "outputs": [],
   "source": [
    "# Finally the confusion matrix\n",
    "lr_full_conf_matrix= confusion_matrix(y_test_f, y_pred_lr_full)\n",
    "lr_full_conf_matrix = pd.DataFrame(lr_full_conf_matrix).transpose().to_csv('lr_full_conf_matrix.csv')"
   ]
  },
  {
   "cell_type": "code",
   "execution_count": 118,
   "metadata": {},
   "outputs": [],
   "source": [
    "lr_part_conf_matrix= confusion_matrix(y_test_p, y_pred_lr_part)\n",
    "lr_part_conf_matrix = pd.DataFrame(lr_part_conf_matrix).transpose().to_csv('lr_part_conf_matrix.csv')"
   ]
  },
  {
   "cell_type": "code",
   "execution_count": null,
   "metadata": {},
   "outputs": [],
   "source": []
  }
 ],
 "metadata": {
  "kernelspec": {
   "display_name": "Python 3",
   "language": "python",
   "name": "python3"
  },
  "language_info": {
   "codemirror_mode": {
    "name": "ipython",
    "version": 3
   },
   "file_extension": ".py",
   "mimetype": "text/x-python",
   "name": "python",
   "nbconvert_exporter": "python",
   "pygments_lexer": "ipython3",
   "version": "3.8.3"
  }
 },
 "nbformat": 4,
 "nbformat_minor": 4
}
